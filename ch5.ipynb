{
 "metadata": {
  "name": "",
  "signature": "sha256:dad0c95afe4df3e600a2328201ae3cf8e41a6083d8fa52235ce3bece9540efc3"
 },
 "nbformat": 3,
 "nbformat_minor": 0,
 "worksheets": [
  {
   "cells": [
    {
     "cell_type": "code",
     "collapsed": false,
     "input": [
      "#we want inline charts.\n",
      "%matplotlib inline\n",
      "import matrix2latex\n",
      "import matplotlib"
     ],
     "language": "python",
     "metadata": {},
     "outputs": [],
     "prompt_number": 23
    },
    {
     "cell_type": "code",
     "collapsed": false,
     "input": [
      "import csv\n",
      "datum_types = {}\n",
      "#data_dir = 'C:/work\\docs\\Dropbox\\PHD_DATA/'\n",
      "data_dir = 'C:/work/data/output/2014-11-21/17.42.12_expset/PhaseAOnlyExperimentSet/'\n",
      "\n",
      "# userID, datumID, kind, dataKind, dataType, originalText, Note, \n",
      "IndexUserId = 0\n",
      "IndexDatumId = 1\n",
      "IndexAnnoKind = 2\n",
      "IndexDataKind = 3\n",
      "\n",
      "with open(data_dir + 'PhaseA_Annos.csv', 'rb') as csvfile:\n",
      "    spamreader = csv.reader(csvfile, delimiter=',')\n",
      "    first = True\n",
      "    rows = [x for x in spamreader]\n",
      "\n",
      "# remove the header row\n",
      "rows.pop(0)\n",
      "annoKindFreqs = {}\n",
      "\n",
      "from collections import Counter\n",
      "print Counter([x[IndexAnnoKind] for x in rows])\n",
      "print Counter([x[IndexDataKind] for x in rows])\n",
      "\n",
      "\n",
      "\n",
      "print len(rows)\n",
      "for annoKind in [\"DateTime\", \"ImageContent\", \"Location\", \"People\", \"SocialEvent\", \"UserStructure\"]:\n",
      "    print annoKind\n",
      "    print len([ x[IndexDatumId] for x in rows if (x[IndexAnnoKind] == annoKind)])\n",
      "    print len([ x[IndexDatumId] for x in rows if (x[IndexAnnoKind] == annoKind) & (x[IndexDataKind] == \"Metadata\")])\n",
      "    print len([ x[IndexDatumId] for x in rows if (x[IndexAnnoKind] == annoKind) & (x[IndexDataKind] == \"Text\")])\n",
      "    print len([ x[IndexDatumId] for x in rows if (x[IndexAnnoKind] == annoKind) & (x[IndexDataKind] == \"Image\")])\n",
      "\n",
      "    "
     ],
     "language": "python",
     "metadata": {},
     "outputs": [
      {
       "output_type": "stream",
       "stream": "stdout",
       "text": [
        "Counter({'Location': 1744, 'People': 419, 'DateTime': 188, 'ImageContent': 112, 'UserStructure': 106, 'SocialEvent': 9})\n",
        "Counter({'Text': 1760, 'Metadata': 706, 'Image': 112})\n",
        "2578\n",
        "DateTime\n",
        "188\n",
        "147\n",
        "41\n",
        "0\n",
        "ImageContent\n",
        "112\n",
        "0\n",
        "0\n",
        "112\n",
        "Location\n",
        "1744\n",
        "34\n",
        "1710\n",
        "0\n",
        "People\n",
        "419\n",
        "419\n",
        "0\n",
        "0\n",
        "SocialEvent\n",
        "9\n",
        "0\n",
        "9\n",
        "0\n",
        "UserStructure\n",
        "106\n",
        "106\n",
        "0\n",
        "0\n"
       ]
      }
     ],
     "prompt_number": 24
    },
    {
     "cell_type": "code",
     "collapsed": false,
     "input": [],
     "language": "python",
     "metadata": {},
     "outputs": [],
     "prompt_number": 24
    }
   ],
   "metadata": {}
  }
 ]
}