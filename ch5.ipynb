{
 "metadata": {
  "name": "",
  "signature": "sha256:36910e8732eba2a7bd560d129a8b402058a6504248ffe6d946abb702467b3bc0"
 },
 "nbformat": 3,
 "nbformat_minor": 0,
 "worksheets": [
  {
   "cells": [
    {
     "cell_type": "code",
     "collapsed": false,
     "input": [
      "#we want inline charts.\n",
      "%matplotlib inline\n",
      "import matrix2latex\n",
      "import matplotlib"
     ],
     "language": "python",
     "metadata": {},
     "outputs": [],
     "prompt_number": 1
    },
    {
     "cell_type": "code",
     "collapsed": false,
     "input": [
      "import csv\n",
      "datum_types = {}\n",
      "data_dir = 'C:/work/data/output/'\n",
      "\n",
      "# userID, datumID, kind, dataKind, dataType, originalText, Note, \n",
      "IndexUserId = 0\n",
      "IndexDatumId = 1\n",
      "IndexAnnoKind = 2\n",
      "IndexDataKind = 3\n",
      "\n",
      "with open(data_dir + 'PhaseA_Annos.csv', 'rb') as csvfile:\n",
      "    spamreader = csv.reader(csvfile, delimiter=',')\n",
      "    first = True\n",
      "    rows = [x for x in spamreader]\n",
      "\n",
      "annoKindFreqs = {}\n",
      "\n",
      "from collections import Counter\n",
      "print Counter([x[IndexAnnoKind] for x in rows])\n",
      "print Counter([x[IndexDataKind] for x in rows])\n",
      "print len(rows)\n",
      "\n",
      "for annoKind in [\" DateTime\", \" ImageContent\", \" Locations\", \" People\", \" SocialEvent\", \" UserStructure\", \" NULL\"]:\n",
      "    print len([ x[IndexDatumId] for x in rows if (x[IndexAnnoKind] == annoKind) & (x[IndexDataKind] == \" Metadata\")])\n",
      "    print len([ x[IndexDatumId] for x in rows if (x[IndexAnnoKind] == annoKind) & (x[IndexDataKind] == \" Text\")])\n",
      "    print len([ x[IndexDatumId] for x in rows if (x[IndexAnnoKind] == annoKind) & (x[IndexDataKind] == \" ImageContent\")])\n",
      "    print len([ x[IndexDatumId] for x in rows if (x[IndexAnnoKind] == annoKind) & (x[IndexDataKind] == \" Null\")])\n",
      "\n",
      "    "
     ],
     "language": "python",
     "metadata": {},
     "outputs": [
      {
       "output_type": "stream",
       "stream": "stdout",
       "text": [
        "Counter({' People': 1827, ' DateTime': 578, ' UserStructure': 331, ' Locations': 134, ' kind': 1})\n",
        "Counter({' NULL': 2405, ' Metadata': 465, ' dataKind': 1})\n",
        "2871\n",
        "0\n",
        "0\n",
        "0\n",
        "0\n",
        "0\n",
        "0\n",
        "0\n",
        "0\n",
        "134\n",
        "0\n",
        "0\n",
        "0"
       ]
      },
      {
       "output_type": "stream",
       "stream": "stdout",
       "text": [
        "\n",
        "0\n",
        "0\n",
        "0\n",
        "0\n",
        "0\n",
        "0\n",
        "0\n",
        "0\n",
        "331\n",
        "0\n",
        "0\n",
        "0\n",
        "0\n",
        "0\n",
        "0"
       ]
      },
      {
       "output_type": "stream",
       "stream": "stdout",
       "text": [
        "\n",
        "0\n"
       ]
      }
     ],
     "prompt_number": 45
    },
    {
     "cell_type": "code",
     "collapsed": false,
     "input": [],
     "language": "python",
     "metadata": {},
     "outputs": []
    }
   ],
   "metadata": {}
  }
 ]
}