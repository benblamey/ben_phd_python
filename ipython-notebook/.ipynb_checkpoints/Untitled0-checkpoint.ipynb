{
 "metadata": {
  "name": "",
  "signature": "sha256:0446a8def35374d98139a78f8128fb6673080b1287427d75f6cec7f57a54071b"
 },
 "nbformat": 3,
 "nbformat_minor": 0,
 "worksheets": []
}