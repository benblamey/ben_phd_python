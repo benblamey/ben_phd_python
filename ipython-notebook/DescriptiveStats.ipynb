{
 "metadata": {
  "name": "",
  "signature": "sha256:0f0b1126df872575e07366923c847c62e64a2da652613bfbc612d68bb194eecf"
 },
 "nbformat": 3,
 "nbformat_minor": 0,
 "worksheets": [
  {
   "cells": [
    {
     "cell_type": "code",
     "collapsed": false,
     "input": [
      "#we want inline charts.\n",
      "%matplotlib inline\n",
      "import matrix2latex\n",
      "\n",
      "import matplotlib\n",
      "# waiting on bug fix to use 'CMU Serif' font.\n",
      "# https://github.com/matplotlib/matplotlib/blob/master/extern/ttconv/ex\n",
      "# \"RuntimeError: TrueType font file contains a very long PostScript name\"\n",
      "# https://github.com/matplotlib/matplotlib/issues/3206\n",
      "\n",
      "\n",
      "\n",
      "#matplotlib.rcParams['font.family'] = 'serif'\n",
      "#matplotlib.rcParams['font.serif'] = 'CMU Serif, Times New Roman'"
     ],
     "language": "python",
     "metadata": {},
     "outputs": [],
     "prompt_number": 1
    },
    {
     "cell_type": "markdown",
     "metadata": {},
     "source": [
      "Import Datum Types from CSV file \n",
      "====\n",
      "\n",
      "See: ExportGroundTruthDatumEventTypes in Java."
     ]
    },
    {
     "cell_type": "code",
     "collapsed": false,
     "input": [
      "# a table of the different kinds of datums was exported to CSV (for all user lifestories)\n",
      "import csv\n",
      "datum_types = {}\n",
      "data_dir = 'C:/work/data/output/'\n",
      "\n",
      "# Two strategies for life story selection:\n",
      "#- Use the latest life story always - recommended for most things - maximizes Ground truth data which \"exists\" in the life stories (38 missing vs. 104)\n",
      "#- Use the life story which matches the gold gate doc -this is the only strategy suitable for gold labelling text eval. */\n",
      "with open(data_dir + 'DatumTypesForPython.csv', 'rb') as csvfile: # LATEST\n",
      "    #- these are slightly older and contain slightly more datums\n",
      "     spamreader = csv.reader(csvfile, delimiter=',')\n",
      "     for row in spamreader:\n",
      "        datum_types[row[0]] = row[1]\n",
      "print set(datum_types.values())"
     ],
     "language": "python",
     "metadata": {},
     "outputs": [
      {
       "output_type": "stream",
       "stream": "stdout",
       "text": [
        "set(['benblamey.saesneg.model.datums.DatumStatusMessage', 'benblamey.saesneg.model.datums.DatumPhoto', 'benblamey.saesneg.model.datums.DatumEvent'])\n"
       ]
      }
     ],
     "prompt_number": 2
    },
    {
     "cell_type": "code",
     "collapsed": false,
     "input": [
      "import pymongo\n",
      "import pprint #pretty print nested structures\n",
      "from itertools import chain\n",
      "pp = pprint.PrettyPrinter(indent=4)\n",
      "\n",
      "from collections import Counter\n",
      "import sys\n",
      "sys.path.append('C:/work/code/3rd_Ben/matrix2latexPython/matrix2latex')\n",
      "import numpy\n",
      "\n",
      "client = pymongo.MongoClient(\"localhost\", 27017) # previously using 1234 for tunnel.\n",
      "users = client.SocialWorld.users\n",
      "\n",
      "\n",
      "data = []\n",
      "excluded_datums = 0\n",
      "\n",
      "for user in users.find():\n",
      "    fullname = unicode(user[\"FACEBOOK_FIRST_NAME\"]) + unicode(user[\"FACEBOOK_LAST_NAME\"])\n",
      "\n",
      "    if (user[\"FACEBOOK_USER_ID\"] == \"836555706\"):\n",
      "        continue # Muhamed Mustafa\n",
      "    if (user[\"FACEBOOK_USER_ID\"] == \"100005149806497\"):\n",
      "        continue # Felix Smith\n",
      "    \n",
      "    \n",
      "    if \"GROUND_TRUTH_EVENTS\" in user:\n",
      "        print fullname\n",
      "        usergts = user[\"GROUND_TRUTH_EVENTS\"]\n",
      "        \n",
      "        data_user = []\n",
      "        \n",
      "        for gtec in usergts[\"events\"]:\n",
      "            \n",
      "            data_user_datums = []\n",
      "            \n",
      "            # lookup the datum IDs in the dictionary\n",
      "            # [3:] #strip off 'fb_' at the start\n",
      "            for datum in gtec[\"datums\"]:\n",
      "                \n",
      "                datum_num_id = datum['id']\n",
      "                if (datum_num_id.startswith('fb_')):\n",
      "                    datum_num_id = datum_num_id[3:]\n",
      "\n",
      "                # We exclude datums that are missing from the latest life story.\n",
      "                if (datum_types.has_key(datum_num_id)):    \n",
      "                    datumtype = datum_types[datum_num_id]\n",
      "                    data_user_datums.append((datum_num_id, datumtype))\n",
      "                else:\n",
      "                    excluded_datums += 1\n",
      "            \n",
      "            if (len(data_user_datums) > 0):\n",
      "                data_user.append(data_user_datums)\n",
      "        \n",
      "        if (len(data_user)>0):\n",
      "            data.append(data_user)\n",
      "\n",
      "table_data = []\n",
      "table_data.append((\"Participants\", users.count()))\n",
      "table_data.append((\"...who created ground truth event clusters\",len(data)))\n",
      "\n",
      "table_data.append((\"Total ground truth event clusters\", \n",
      "                   sum(len(user) for user in data)))\n",
      "\n",
      "table_data.append((\"Mean clusters per user\", \n",
      "                   \"{:.2f}\".format(\n",
      "float(sum(len(user) for user in data))/ # no of clusters\n",
      "                    users.count()) # no of users\n",
      "                   ))\n",
      "\n",
      "table_data.append((\"Total datums in ground truth clusters\", \n",
      "                   len(list(chain.from_iterable(chain.from_iterable(data))))))\n",
      "\n",
      "table_data.append((\"Mean datums per cluster\", \n",
      "                   \"{:.2f}\".format(\n",
      "                   float(len(list(chain.from_iterable(chain.from_iterable(data))))) # total datums\n",
      "                   /sum(len(user) for user in data) # total clusters\n",
      "                   )\n",
      "                   ))\n",
      "\n",
      "                  \n",
      "\n",
      "#print \"List of Number of Ground Truth Event Clusters per User\"\n",
      "number_of_gt_events_per_user = list(len(user_events) for user_events in data)\n",
      "#pp.pprint(number_of_gt_events_per_user)\n",
      "    \n",
      "    \n",
      "#print \"List of Number of Datums per Ground Truth Event Cluster\"\n",
      "number_of_datums_per_gt_event_cluster = [len(list(gt_cluster)) for gt_cluster in chain.from_iterable(data)]\n",
      "#pp.pprint(number_of_datums_per_gt_event_cluster)\n",
      "\n",
      "#table_data.append((\"Total ground truth event clusters\", total_gtecs))\n",
      "#table_data.append((\"Total ground truth event cluster datums\", total_gtecdatums))\n",
      "\n",
      "\n",
      "\n",
      "print(\"#### Excluded Datums: \" + str(excluded_datums) + \"####\") # under latest=38,gold_or_latest=?\n",
      "pp.pprint(table_data)\n",
      "                    \n",
      "#pp.pprint(data)                    \n",
      "                    \n",
      "                    \n",
      "                    \n",
      "            "
     ],
     "language": "python",
     "metadata": {},
     "outputs": [
      {
       "output_type": "stream",
       "stream": "stdout",
       "text": [
        "GilesOatley\n",
        "LynneHall\n",
        "AnnureetBajwa\n",
        "BenBlamey\n",
        "StuartWilliams\n",
        "StuartCloete\n",
        "KateBrisland\n",
        "BrendanWarren\n",
        "LaurenWiltshire\n",
        "RickyDavies\n",
        "AlexBush\n",
        "JosephMalloy\n",
        "TimSkehel\n",
        "TimCoysh\n",
        "RhiannonPugh\n",
        "#### Excluded Datums: 422####\n",
        "[   ('Participants', 81),\n",
        "    ('...who created ground truth event clusters', 2),\n",
        "    ('Total ground truth event clusters', 40),\n",
        "    ('Mean clusters per user', '0.49'),\n",
        "    ('Total datums in ground truth clusters', 161),\n",
        "    ('Mean datums per cluster', '4.03')]\n"
       ]
      }
     ],
     "prompt_number": 3
    },
    {
     "cell_type": "code",
     "collapsed": false,
     "input": [],
     "language": "python",
     "metadata": {},
     "outputs": [],
     "prompt_number": 3
    },
    {
     "cell_type": "markdown",
     "metadata": {},
     "source": [
      "Generate Data for Bar Chart"
     ]
    },
    {
     "cell_type": "markdown",
     "metadata": {},
     "source": [
      "Frequency of Number of Ground Truth Event Clusters per User\n",
      "========="
     ]
    },
    {
     "cell_type": "code",
     "collapsed": false,
     "input": [
      "gteventsizes = number_of_gt_events_per_user\n",
      "\n",
      "from collections import Counter\n",
      "from matplotlib.pyplot import  *\n",
      "from matplotlib.ticker import FixedLocator\n",
      "\n",
      "xvalues = range(1,max(gteventsizes)+1)\n",
      "gt_events_per_user_graph_data = [0] * max(gteventsizes)\n",
      "print xvalues\n",
      "for (x,f) in Counter(gteventsizes).items():\n",
      "    gt_events_per_user_graph_data[x-1] = f\n",
      "print gt_events_per_user_graph_data  \n",
      "\n",
      "#import numpy\n",
      "#xlocations = numpy.array(range(len(gteventsizes)))+0.5\n",
      "#xlocations = xlocations+ width/2 * 2\n",
      "#print xlocations\n",
      "\n",
      "width = 1\n",
      "\n",
      "xlabels = range(0,max(gteventsizes)+2, 2)\n",
      "xlabels_positions = [x + 0.5 for x in xlabels]\n",
      "xminorformatter = FixedLocator([x - 0.5 for x in xlabels])\n",
      "\n",
      "#print xlocations\n",
      "\n",
      "bar(xvalues, gt_events_per_user_graph_data, width=width, linewidth=1)\n",
      "yticks(range(0, max(gt_events_per_user_graph_data)+2))\n",
      "xticks(xlabels_positions, xlabels)\n",
      "xlabel(\"# Ground Truth Events for User\")\n",
      "ylabel(\"Frequency\")\n",
      "xlim(0, max(xlabels)+1)\n",
      "\n",
      "# The function gca() returns the current axes - instance of http://matplotlib.org/api/axes_api.html#matplotlib.axes.Axes\n",
      "gca().get_xaxis().set_minor_locator(xminorformatter)\n",
      "gca().get_xaxis().tick_bottom()\n",
      "gca().get_yaxis().tick_left()\n",
      "\n",
      "savefig(\"output/ch4_gen_freqGTusers.png\", dpi=600, figsize=(8, 6))\n",
      "savefig(\"output/ch4_gen_freqGTusers.pdf\", dpi=600, figsize=(8, 6))\n",
      "show()\n",
      "#title(\"Frequency of Number of Ground Truth Event Clusters per User\")\n"
     ],
     "language": "python",
     "metadata": {},
     "outputs": [
      {
       "output_type": "stream",
       "stream": "stdout",
       "text": [
        "[1, 2, 3, 4, 5, 6, 7, 8, 9, 10, 11, 12, 13, 14, 15, 16, 17, 18, 19, 20, 21, 22, 23, 24, 25, 26, 27, 28, 29, 30, 31, 32, 33, 34, 35]\n",
        "[0, 0, 0, 0, 1, 0, 0, 0, 0, 0, 0, 0, 0, 0, 0, 0, 0, 0, 0, 0, 0, 0, 0, 0, 0, 0, 0, 0, 0, 0, 0, 0, 0, 0, 1]\n"
       ]
      },
      {
       "metadata": {},
       "output_type": "display_data",
       "png": "[encoded data removed]",
       "text": [
        "<matplotlib.figure.Figure at 0x2802df0>"
       ]
      }
     ],
     "prompt_number": 4
    },
    {
     "cell_type": "markdown",
     "metadata": {},
     "source": [
      "Frequency of Number of Datums per Ground Truth Event Cluster\n",
      "============================================================"
     ]
    },
    {
     "cell_type": "code",
     "collapsed": false,
     "input": [
      "gtecsizes = number_of_datums_per_gt_event_cluster\n",
      "\n",
      "\n",
      "from collections import Counter\n",
      "xvalues = range(1,max(gtecsizes)+1)\n",
      "datums_per_event_cluster_graph_data = [0] * max(gtecsizes)\n",
      "print xvalues\n",
      "for (x,f) in Counter(gtecsizes).items():\n",
      "    datums_per_event_cluster_graph_data[x-1] = f\n",
      "print datums_per_event_cluster_graph_data  \n",
      "\n",
      "#import numpy\n",
      "#xlocations = numpy.array(range(len(gteventsizes)))+0.5\n",
      "#xlocations = xlocations+ width/2 * 2\n",
      "#print xlocations\n",
      "\n",
      "width = 1\n",
      "\n",
      "xlabels = range(0,max(gtecsizes)+2, 2)\n",
      "xlabels_positions = [x + 0.5 for x in xlabels]\n",
      "xminorformatter = FixedLocator([x - 0.5 for x in xlabels])\n",
      "\n",
      "#print xlocations\n",
      "\n",
      "bar(xvalues, datums_per_event_cluster_graph_data, width=width, linewidth=1)\n",
      "yticks(range(0, max(datums_per_event_cluster_graph_data)+10, 10))\n",
      "xticks(xlabels_positions, xlabels)\n",
      "xlim(0, max(xlabels)+1)\n",
      "\n",
      "xlabel(\"# Datums in Ground Truth Event Cluster\")\n",
      "ylabel(\"Frequency\")\n",
      "\n",
      "# The function gca() returns the current axes - instance of http://matplotlib.org/api/axes_api.html#matplotlib.axes.Axes\n",
      "gca().get_xaxis().set_minor_locator(xminorformatter)\n",
      "gca().get_xaxis().tick_bottom()\n",
      "gca().get_yaxis().tick_left()\n",
      "\n",
      "savefig(\"output/ch4_gen_freqGTevents.png\", dpi=600, figsize=(8, 6))\n",
      "savefig(\"output/ch4_gen_freqGTevents.pdf\", dpi=600, figsize=(8, 6))\n",
      "show()\n",
      "#title(\"Frequency of Number of Datums per Ground Truth Event Cluster\")"
     ],
     "language": "python",
     "metadata": {},
     "outputs": [
      {
       "output_type": "stream",
       "stream": "stdout",
       "text": [
        "[1, 2, 3, 4, 5, 6, 7, 8, 9, 10, 11, 12, 13]\n",
        "[14, 5, 3, 2, 5, 3, 2, 2, 0, 1, 1, 0, 2]\n"
       ]
      },
      {
       "metadata": {},
       "output_type": "display_data",
       "png": "[encoded data removed]",
       "text": [
        "<matplotlib.figure.Figure at 0x5036270>"
       ]
      }
     ],
     "prompt_number": 5
    },
    {
     "cell_type": "markdown",
     "metadata": {},
     "source": [
      "Types in GT Event Clusters\n",
      "======="
     ]
    },
    {
     "cell_type": "code",
     "collapsed": false,
     "input": [
      "datum_type_counts = Counter()\n",
      "\n",
      "for user in data:\n",
      "    for gt_event_cluster in user:\n",
      "        for datum in gt_event_cluster:\n",
      "            datum_type = datum[1]\n",
      "            datum_type_counts[datum_type] += 1\n",
      "            \n",
      "pretty_labels = {\n",
      "'benblamey.saesneg.model.datums.DatumPhoto': 'Photo',\n",
      "'benblamey.saesneg.model.datums.DatumStatusMessage': 'Status Message',\n",
      "'benblamey.saesneg.model.datums.DatumCheckin': 'Check-In',\n",
      "'benblamey.saesneg.model.datums.DatumEvent': 'Facebook Event',\n",
      "'mixed': '(Mixed)',\n",
      "}\n",
      "\n",
      "#t = sum(x_list)\n",
      "#cluster_type_comp_table_data = zip(label_list, x_list, [(\"{:.2f}\".format(\n",
      "#    (float(x)/t) * 100) + \"\\%\") # \\% is for latex.\n",
      "#                                  for x in x_list ])\n",
      "\n",
      "label_list = [pretty_labels[key] for key in datum_type_counts.keys()]\n",
      "values = datum_type_counts.values()\n",
      "\n",
      "datum_type_table_data = zip(label_list, values)\n",
      "\n",
      "\n",
      "\n",
      "#cluster_type_comp_table_data = sorted(cluster_type_comp_table_data, key=lambda x: x[1], reverse=True) # %'s are strings! sort on col.2\n",
      "\n",
      "#cluster_type_comp_table_data.reverse()\n",
      "#print cluster_type_comp_table_data\n",
      "\n",
      "hr = ['Type','Frequency']\n",
      "\n",
      "datum_type_table_data.append((\"\\midrule Total\", sum(values)))\n",
      "\n",
      "t = matrix2latex.matrix2latex(datum_type_table_data,\n",
      "                              headerRow = hr,\n",
      "                              filename='output/ch4_table_gen_datums_by_type', \n",
      "                              caption='Frequency of Datum by Type', \n",
      "                              alignment='r r')\n",
      "print t\n"
     ],
     "language": "python",
     "metadata": {},
     "outputs": [
      {
       "output_type": "stream",
       "stream": "stdout",
       "text": [
        "\\begin{table}[htp]\n",
        "\t\\begin{center}\n",
        "\t\\caption{Frequency of Datum by Type}\n",
        "\t\\label{tab:ch4_table_gen_datums_by_type}\n",
        "\t\t\\begin{tabular}{r r}\n",
        "\t\t\\toprule\n",
        "\t\t\t{Type} & {Frequency}\\\\\n",
        "\t\t\t\\midrule\n",
        "\t\t\tStatus Message & $16$\\\\\n",
        "\t\t\tPhoto & $126$\\\\\n",
        "\t\t\tFacebook Event & $19$\\\\\n",
        "\t\t\t\\midrule Total & $161$\\\\\n",
        "\t\t\\bottomrule\n",
        "\t\t\\end{tabular}\n",
        "\t\\end{center}\n",
        "\\end{table}\n"
       ]
      }
     ],
     "prompt_number": 6
    },
    {
     "cell_type": "code",
     "collapsed": false,
     "input": [
      "#Number of types in each gt event cluster\n",
      "types_in_gt_clusters = [set([datum[1] for datum in gt_event_cluster]) for gt_event_cluster in list(chain.from_iterable(data))]\n",
      "#pp.pprint(types_in_gt_clusters)\n",
      "\n",
      "\n",
      "gt_cluster_type_counter = Counter()\n",
      "\n",
      "for types in types_in_gt_clusters:\n",
      "    if (len(types) == 1):\n",
      "        type = next(iter(types))\n",
      "    else:\n",
      "        type = 'mixed'\n",
      "        \n",
      "    gt_cluster_type_counter[type] += 1\n",
      "    \n",
      "\n",
      "pp.pprint(gt_cluster_type_counter)  "
     ],
     "language": "python",
     "metadata": {},
     "outputs": [
      {
       "output_type": "stream",
       "stream": "stdout",
       "text": [
        "Counter({'benblamey.saesneg.model.datums.DatumPhoto': 23, 'benblamey.saesneg.model.datums.DatumEvent': 10, 'benblamey.saesneg.model.datums.DatumStatusMessage': 6, 'mixed': 1})\n"
       ]
      }
     ],
     "prompt_number": 7
    },
    {
     "cell_type": "code",
     "collapsed": false,
     "input": [
      "\n",
      "\n",
      "\n",
      "print gt_cluster_type_counter.keys()\n",
      "label_list =  [pretty_labels[label] for label in gt_cluster_type_counter.keys()]\n",
      "x_list = gt_cluster_type_counter.values()\n",
      " \n",
      "axis(\"equal\")\n",
      "pie(\n",
      "x_list,\n",
      "labels=label_list,\n",
      "autopct=None,\n",
      "#startangle=45\n",
      "#autopct=\"%1.1f%%\",\n",
      "#pctdistance=0.8\n",
      ")\n",
      "\n",
      "\n",
      "\n",
      "savefig(\"output/ch4_gen_GTtypepie.png\", dpi=600, figsize=(8, 6))\n",
      "savefig(\"output/ch4_gen_GTtypepie.pdf\", dpi=600, figsize=(8, 6))\n",
      "\n",
      "show()"
     ],
     "language": "python",
     "metadata": {},
     "outputs": [
      {
       "output_type": "stream",
       "stream": "stdout",
       "text": [
        "['mixed', 'benblamey.saesneg.model.datums.DatumStatusMessage', 'benblamey.saesneg.model.datums.DatumPhoto', 'benblamey.saesneg.model.datums.DatumEvent']\n"
       ]
      },
      {
       "metadata": {},
       "output_type": "display_data",
       "png": "[encoded data removed]",
       "text": [
        "<matplotlib.figure.Figure at 0x4ef3c50>"
       ]
      }
     ],
     "prompt_number": 8
    },
    {
     "cell_type": "code",
     "collapsed": false,
     "input": [
      "t = sum(x_list)\n",
      "cluster_type_comp_table_data = zip(label_list, x_list, [(\"{:.2f}\".format(\n",
      "    (float(x)/t) * 100) + \"\\%\") # \\% is for latex.\n",
      "                                  for x in x_list ])\n",
      "\n",
      "cluster_type_comp_table_data = sorted(cluster_type_comp_table_data, key=lambda x: x[1], reverse=True) # %'s are strings! sort on col.2\n",
      "\n",
      "#cluster_type_comp_table_data.reverse()\n",
      "print cluster_type_comp_table_data\n",
      "\n",
      "hr = ['Type(s) in Event Cluster','Frequency','']\n",
      "\n",
      "cluster_type_comp_table_data.append((\"\\midrule Total\", t, \"\"))\n",
      "\n",
      "t = matrix2latex.matrix2latex(cluster_type_comp_table_data,\n",
      "                              headerRow = hr,\n",
      "                              filename='output/ch4_table_gen_gt_comp_by_type', \n",
      "                              caption='Ground Truth Cluster Datums by Type', \n",
      "                              alignment='r r r')\n",
      "print t"
     ],
     "language": "python",
     "metadata": {},
     "outputs": [
      {
       "output_type": "stream",
       "stream": "stdout",
       "text": [
        "[('Photo', 23, '57.50\\\\%'), ('Facebook Event', 10, '25.00\\\\%'), ('Status Message', 6, '15.00\\\\%'), ('(Mixed)', 1, '2.50\\\\%')]\n",
        "\\begin{table}[htp]\n",
        "\t\\begin{center}\n",
        "\t\\caption{Ground Truth Cluster Datums by Type}\n",
        "\t\\label{tab:ch4_table_gen_gt_comp_by_type}\n",
        "\t\t\\begin{tabular}{r r r}\n",
        "\t\t\\toprule\n",
        "\t\t\t{Type(s) in Event Cluster} & {Frequency} & {}\\\\\n",
        "\t\t\t\\midrule\n",
        "\t\t\tPhoto & $23$ & 57.50\\%\\\\\n",
        "\t\t\tFacebook Event & $10$ & 25.00\\%\\\\\n",
        "\t\t\tStatus Message & $6$ & 15.00\\%\\\\\n",
        "\t\t\t(Mixed) & $1$ & 2.50\\%\\\\\n",
        "\t\t\t\\midrule Total & $40$ & \\\\\n",
        "\t\t\\bottomrule\n",
        "\t\t\\end{tabular}\n",
        "\t\\end{center}\n",
        "\\end{table}\n"
       ]
      }
     ],
     "prompt_number": 9
    },
    {
     "cell_type": "markdown",
     "metadata": {},
     "source": [
      "X-Type Matrix\n",
      "===="
     ]
    },
    {
     "cell_type": "code",
     "collapsed": false,
     "input": [
      "# Postive/Intra Cases\n",
      "\n",
      "from sets import Set\n",
      "cross_types_matrix = Counter()\n",
      "all_types = Set()\n",
      "\n",
      "for user in data:\n",
      "    for gtec in user:\n",
      "        for x in gtec:\n",
      "            x_id = x[0]\n",
      "            x_type = x[1]\n",
      "            all_types.add(x_type)\n",
      "            for y in gtec:\n",
      "                y_id = y[0]\n",
      "                y_type = y[1]\n",
      "                if (x_type > y_type):\n",
      "                    continue\n",
      "                if (x_id == y_id):\n",
      "                    continue\n",
      "                types = [x_type,y_type]\n",
      "                types.sort()\n",
      "                types = tuple(types)\n",
      "                cross_types_matrix[types] += 1\n",
      "                \n",
      "pp.pprint (cross_types_matrix)\n",
      "print (all_types)\n",
      "\n"
     ],
     "language": "python",
     "metadata": {},
     "outputs": [
      {
       "output_type": "stream",
       "stream": "stdout",
       "text": [
        "Counter({('benblamey.saesneg.model.datums.DatumPhoto', 'benblamey.saesneg.model.datums.DatumPhoto'): 810, ('benblamey.saesneg.model.datums.DatumEvent', 'benblamey.saesneg.model.datums.DatumEvent'): 42, ('benblamey.saesneg.model.datums.DatumStatusMessage', 'benblamey.saesneg.model.datums.DatumStatusMessage'): 38, ('benblamey.saesneg.model.datums.DatumPhoto', 'benblamey.saesneg.model.datums.DatumStatusMessage'): 30})\n",
        "Set(['benblamey.saesneg.model.datums.DatumStatusMessage', 'benblamey.saesneg.model.datums.DatumPhoto', 'benblamey.saesneg.model.datums.DatumEvent'])\n"
       ]
      }
     ],
     "prompt_number": 10
    },
    {
     "cell_type": "code",
     "collapsed": false,
     "input": [
      "# Negative/Inter Cases\n",
      "\n",
      "inter_cross_types_matrix = Counter()\n",
      "\n",
      "\n",
      "for user in data:\n",
      "    for cluster_x in user:\n",
      "        for cluster_y in user:\n",
      "            if (cluster_x == cluster_y): # this works.\n",
      "                continue\n",
      "            for x_datum in cluster_x:\n",
      "                x_type = x_datum[1]\n",
      "                for y_datum in cluster_y:\n",
      "                    y_type = y_datum[1]\n",
      "                    if (x_type > y_type):\n",
      "                        continue\n",
      "                    types = [x_type,y_type]\n",
      "                    types.sort()\n",
      "                    types = tuple(types)\n",
      "                    inter_cross_types_matrix[types] += 1\n",
      "\n",
      "          \n"
     ],
     "language": "python",
     "metadata": {},
     "outputs": [],
     "prompt_number": 11
    },
    {
     "cell_type": "code",
     "collapsed": false,
     "input": [
      "all_types_sorted = list(all_types)\n",
      "all_types_sorted.sort()\n",
      "all_types_sorted_reversed = list(all_types_sorted)\n",
      "all_types_sorted_reversed.reverse()\n",
      "\n",
      "pair_table_data = []\n",
      "\n",
      "header_row = list(all_types_sorted)\n",
      "header_row = [pretty_labels[typestring] for typestring in header_row]\n",
      "header_row.insert(0,\"\")\n",
      "\n",
      "xtype_table_data = [header_row]\n",
      "for t1 in all_types_sorted:\n",
      "    table_row = [pretty_labels[t1]]\n",
      "    for t2 in all_types_sorted:\n",
      "        if (t1 <= t2):\n",
      "            cell = cross_types_matrix[(t1, t2)]\n",
      "        else:\n",
      "            cell = \"-\"\n",
      "        table_row.append(cell)\n",
      "    xtype_table_data.append(table_row)\n",
      "\n",
      "matrix2latex.matrix2latex(xtype_table_data, \n",
      "                          filename=\"output/ch6_table_gen_intra_xtype_cluster\", \n",
      "                          caption=\"Intra-Cluster Datum Pairs by Type (Positive Cases).\", \n",
      "                          alignment='r ' * len(header_row))\n",
      "pair_table_data.append(\n",
      "(\"Total intra-cluster (positive) datum pairs\", \n",
      " sum(count for count in cross_types_matrix.values())))\n",
      "\n",
      "inter_xtype_table_data = [header_row]\n",
      "for t1 in all_types_sorted:\n",
      "    table_row = [pretty_labels[t1]]\n",
      "    for t2 in all_types_sorted:\n",
      "        if (t1 <= t2):\n",
      "            cell = inter_cross_types_matrix[(t1, t2)]\n",
      "        else:\n",
      "            cell = \"-\"\n",
      "        table_row.append(cell)\n",
      "    inter_xtype_table_data.append(table_row)\n",
      "\n",
      "matrix2latex.matrix2latex(inter_xtype_table_data, \n",
      "                          filename=\"output/ch6_table_gen_inter_xtype_cluster\", \n",
      "                          caption=\"Inter-Cluster Datum Pairs by Type (Negative Cases).\", \n",
      "                          alignment='r ' * len(header_row))\n",
      "\n",
      "pair_table_data.append(\n",
      "(\"Total inter-cluster (negative) datum pairs\", \n",
      " sum(count for count in inter_cross_types_matrix.values())))\n",
      "\n",
      "\n",
      "\n",
      "\n",
      "inter_xtype_table_data = [header_row]\n",
      "for t1 in all_types_sorted:\n",
      "    table_row = [pretty_labels[t1]]\n",
      "    for t2 in all_types_sorted:\n",
      "        if (t1 <= t2):\n",
      "            cell = inter_cross_types_matrix[(t1, t2)] + cross_types_matrix[(t1, t2)]\n",
      "        else:\n",
      "            cell = \"-\"\n",
      "        table_row.append(cell)\n",
      "    inter_xtype_table_data.append(table_row)\n",
      "\n",
      "matrix2latex.matrix2latex(inter_xtype_table_data, \n",
      "                          filename=\"output/ch6_table_gen_all_xtype_cluster\", \n",
      "                          caption=\"Cluster Datum Pairs by Type (All Cases).\", \n",
      "                          alignment='r ' * len(header_row))\n",
      "\n",
      "pair_table_data.append(\n",
      "(\"\\midrule Total cluster datum pairs\", \n",
      " sum(count for count in inter_cross_types_matrix.values())\n",
      " + sum(count for count in cross_types_matrix.values())))"
     ],
     "language": "python",
     "metadata": {},
     "outputs": [],
     "prompt_number": 12
    },
    {
     "cell_type": "markdown",
     "metadata": {},
     "source": [
      "Generate Overview Stats Table\n",
      "===="
     ]
    },
    {
     "cell_type": "code",
     "collapsed": false,
     "input": [
      "t = matrix2latex.matrix2latex(table_data, filename=\"output/ch4_table_gen_gt_summary\", caption=\"Summary of participants' ground truth data.\", alignment='r r')\n",
      "print t"
     ],
     "language": "python",
     "metadata": {},
     "outputs": [
      {
       "output_type": "stream",
       "stream": "stdout",
       "text": [
        "\\begin{table}[htp]\n",
        "\t\\begin{center}\n",
        "\t\\caption{Summary of participants' ground truth data.}\n",
        "\t\\label{tab:ch4_table_gen_gt_summary}\n",
        "\t\t\\begin{tabular}{r r}\n",
        "\t\t\\toprule\n",
        "\t\t\tParticipants & $81$\\\\\n",
        "\t\t\t...who created ground truth event clusters & $2$\\\\\n",
        "\t\t\tTotal ground truth event clusters & $40$\\\\\n",
        "\t\t\tMean clusters per user & $0.49$\\\\\n",
        "\t\t\tTotal datums in ground truth clusters & $161$\\\\\n",
        "\t\t\tMean datums per cluster & $4.03$\\\\\n",
        "\t\t\\bottomrule\n",
        "\t\t\\end{tabular}\n",
        "\t\\end{center}\n",
        "\\end{table}\n"
       ]
      }
     ],
     "prompt_number": 13
    },
    {
     "cell_type": "code",
     "collapsed": false,
     "input": [
      "t = matrix2latex.matrix2latex(pair_table_data, \n",
      "                              filename='output/ch6_table_pair_summary', \n",
      "                              caption='Summary of Ground Truth Datum Pairs.', \n",
      "                              alignment='r r')\n",
      "print t"
     ],
     "language": "python",
     "metadata": {},
     "outputs": [
      {
       "output_type": "stream",
       "stream": "stdout",
       "text": [
        "\\begin{table}[htp]\n",
        "\t\\begin{center}\n",
        "\t\\caption{Summary of Ground Truth Datum Pairs.}\n",
        "\t\\label{tab:ch6_table_pair_summary}\n",
        "\t\t\\begin{tabular}{r r}\n",
        "\t\t\\toprule\n",
        "\t\t\tTotal intra-cluster (positive) datum pairs & $920$\\\\\n",
        "\t\t\tTotal inter-cluster (negative) datum pairs & $16300$\\\\\n",
        "\t\t\t\\midrule Total cluster datum pairs & $17220$\\\\\n",
        "\t\t\\bottomrule\n",
        "\t\t\\end{tabular}\n",
        "\t\\end{center}\n",
        "\\end{table}\n"
       ]
      }
     ],
     "prompt_number": 14
    }
   ],
   "metadata": {}
  }
 ]
}