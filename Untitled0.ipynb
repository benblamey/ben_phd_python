{
 "metadata": {
  "name": "",
  "signature": "sha256:aad98c499da2824a51d3c7974365fc2e09d5a8eab12ca972a0470ef220fc827b"
 },
 "nbformat": 3,
 "nbformat_minor": 0,
 "worksheets": [
  {
   "cells": [
    {
     "cell_type": "code",
     "collapsed": false,
     "input": [
      "import random\n",
      "\n",
      "def rollDice():\n",
      "        return random.randint(1,6)\n",
      "\n",
      "rollDice()"
     ],
     "language": "python",
     "metadata": {},
     "outputs": [
      {
       "metadata": {},
       "output_type": "pyout",
       "prompt_number": 30,
       "text": [
        "5"
       ]
      }
     ],
     "prompt_number": 30
    },
    {
     "cell_type": "code",
     "collapsed": false,
     "input": [
      "def diceExperiment(n):\n",
      "        freq ={}\n",
      "        for i in range(n):\n",
      "            roll = rollDice()\n",
      "            if roll in freq:\n",
      "                    freq[roll] += 1\n",
      "            else:\n",
      "                    freq[roll] = 1\n",
      "        return freq"
     ],
     "language": "python",
     "metadata": {},
     "outputs": [],
     "prompt_number": 31
    },
    {
     "cell_type": "code",
     "collapsed": false,
     "input": [
      "diceExperiment(100)"
     ],
     "language": "python",
     "metadata": {},
     "outputs": [
      {
       "metadata": {},
       "output_type": "pyout",
       "prompt_number": 32,
       "text": [
        "{1: 13, 2: 13, 3: 19, 4: 25, 5: 11, 6: 19}"
       ]
      }
     ],
     "prompt_number": 32
    },
    {
     "cell_type": "code",
     "collapsed": false,
     "input": [
      "\n",
      "def rollDice():\n",
      "    result = 7\n",
      "    while result > 6: \n",
      "        roll1 = random.randint(0,1)\n",
      "        roll2 = random.randint(0,1)\n",
      "        roll3 = random.randint(0,1)\n",
      "        result = roll1 + roll2 * 2 + roll3 *4  + 1\n",
      "    return result\n",
      "\n",
      "freq = {}\n",
      "for i in range(1,60000):\n",
      "    roll = rollDice()\n",
      "    if roll in freq:\n",
      "        freq[roll] += 1\n",
      "    else:\n",
      "        freq[roll] = 1\n",
      "print freq    \n"
     ],
     "language": "python",
     "metadata": {},
     "outputs": [
      {
       "output_type": "stream",
       "stream": "stdout",
       "text": [
        "{1: 10088, 2: 10083, 3: 9957, 4: 9868, 5: 10067, 6: 9936}\n"
       ]
      }
     ],
     "prompt_number": 36
    },
    {
     "cell_type": "code",
     "collapsed": false,
     "input": [],
     "language": "python",
     "metadata": {},
     "outputs": [],
     "prompt_number": 33
    }
   ],
   "metadata": {}
  }
 ]
}