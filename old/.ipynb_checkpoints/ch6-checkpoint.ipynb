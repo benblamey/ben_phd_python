{
 "metadata": {
  "name": "",
  "signature": "sha256:f47c14a794f3155e7729e4672f7389d030f08c4e0c69fbef92b0e49a8ad01dcf"
 },
 "nbformat": 3,
 "nbformat_minor": 0,
 "worksheets": [
  {
   "cells": [
    {
     "cell_type": "code",
     "collapsed": false,
     "input": [
      "#we want inline charts.\n",
      "%matplotlib inline\n",
      "import matrix2latex\n",
      "import matplotlib\n",
      "import random\n",
      "import numpy\n",
      "from sets import Set"
     ],
     "language": "python",
     "metadata": {},
     "outputs": [],
     "prompt_number": 81
    },
    {
     "cell_type": "code",
     "collapsed": false,
     "input": [
      "import csv\n",
      "datum_types = {}\n",
      "#data_dir = 'C:/work\\docs\\Dropbox\\PHD_DATA/'\n",
      "data_dir = 'C:/work/docs/Dropbox/PHD_DATA/2014-11-29/17.33.55_expset_bing_crosby/Thesis_Experiment_Set/'\n",
      "#data_dir = 'C:/work/data/output/2014-11-21/17.42.12_expset/PhaseAOnlyExperimentSet/'\n",
      "\n",
      "# userID, datumID, kind, dataKind, dataType, originalText, Note, \n",
      "# userID, (isIntra),leftDatumID,rightDatumID,leftDataType,rightDataType,featureID,svmValue,message,\n",
      "\n",
      "headers = ['userId', \n",
      " #'isIntra',  <<< NEED TO RE-ENABLE!!!\n",
      " 'leftDatumID','rightDatumID','leftDataType','rightDataType','featureID','svmValue','message',\n",
      "]\n",
      "\n",
      "\n",
      "with open(data_dir + '/PhaseB_Pair_Annos.csv', 'rb') as csvfile:\n",
      "    spamreader = csv.reader(csvfile, delimiter=',')\n",
      "    first = True\n",
      "    rows = [x for x in spamreader]\n",
      "    \n",
      "#remove the header row\n",
      "rows.pop(0)\n",
      "\n",
      "\n",
      "\n",
      "newRows = []\n",
      "rows = [ { headers[i] : row[i] for i in range(len(row)-1) } for row in rows]\n",
      "for row in rows:\n",
      "    row['svmValue'] = float(row['svmValue'])\n",
      "\n",
      "# for the time being, invent a intra-/not intra label.\n",
      "for row in rows:\n",
      "    row['isIntra'] = random.choice([True, False, False, False])\n",
      "\n",
      "print 'Example row:'\n",
      "print rows[0]"
     ],
     "language": "python",
     "metadata": {},
     "outputs": [
      {
       "output_type": "stream",
       "stream": "stdout",
       "text": [
        "Example row:\n",
        "{'svmValue': 0.75, 'leftDatumID': '2224280020431', 'featureID': 'Friends_InCommon', 'rightDataType': 'benblamey.saesneg.model.datums.DatumPhoto', 'userId': '1645701821', 'leftDataType': 'benblamey.saesneg.model.datums.DatumPhoto', 'rightDatumID': '391816257498793', 'isIntra': True, 'message': 'log(#friends intersection)+1'}\n"
       ]
      }
     ],
     "prompt_number": 82
    },
    {
     "cell_type": "code",
     "collapsed": false,
     "input": [
      "total_gt_datums = 161\n",
      "\n",
      "totalEdge = len(rows)\n",
      "intraEdge = len([row for row in rows if row['isIntra']])\n",
      "interEdge = len([row for row in rows if not row['isIntra']])\n",
      "\n",
      "ch6_table_data = (            \n",
      "    ('Total Datums', total_gt_datums, ''),\n",
      "    ('Total Edges', totalEdge, '{:.2f}\\%'.format(100.0) ),\n",
      "    ('Intra-Event Edges', intraEdge, '{:.2f}\\\\%'.format(100*float(intraEdge)/totalEdge) ),\n",
      "    ('Intra-Event Edges', interEdge, '{:.2f}\\\\%'.format(100*float(interEdge)/totalEdge) )\n",
      ")\n",
      "\n",
      "t1 = matrix2latex.matrix2latex(\n",
      "      ch6_table_data, \n",
      "      filename='C:/work/docs/PHD_work/thesis/images/ch6_table_summary.tex',\n",
      "      caption='Summary of Phase B Annotations.',\n",
      "      alignment='l r r')\n",
      "print t1"
     ],
     "language": "python",
     "metadata": {},
     "outputs": [
      {
       "output_type": "stream",
       "stream": "stdout",
       "text": [
        "\\begin{table}[htp]\n",
        "\t\\begin{center}\n",
        "\t\\caption{Summary of Phase B Annotations.}\n",
        "\t\\label{tab:ch6_table_summary}\n",
        "\t\t\\begin{tabular}{l r r}\n",
        "\t\t\\toprule\n",
        "\t\t\tTotal Datums & $161$ & \\\\\n",
        "\t\t\tTotal Edges & $112296$ & 100.00\\%\\\\\n",
        "\t\t\tIntra-Event Edges & $27686$ & 24.65\\%\\\\\n",
        "\t\t\tIntra-Event Edges & $84610$ & 75.35\\%\\\\\n",
        "\t\t\\bottomrule\n",
        "\t\t\\end{tabular}\n",
        "\t\\end{center}\n",
        "\\end{table}\n"
       ]
      }
     ],
     "prompt_number": 83
    },
    {
     "cell_type": "code",
     "collapsed": false,
     "input": [
      "x = [row['svmValue'] for row in rows if ((row['featureID'] == 'Friends_InCommon') and row['isIntra']) ]\n",
      "y = [row['svmValue'] for row in rows if ((row['featureID'] == 'Friends_InCommon') and not (row['isIntra'])) ]\n",
      "\n",
      "matplotlib.pyplot.hist(x, 100, range=(1.0), label='Intra-Event Edges', alpha=0.5)\n",
      "matplotlib.pyplot.hist(y, 100, range=(1.0), label='Inter-Event Edges', alpha=0.5)\n",
      "matplotlib.pyplot.legend(loc='upper right')\n",
      "savefig(\"output/ch4_gen_freqGTevents.pdf\", dpi=600, figsize=(8, 6))\n",
      "savefig(\"output/ch4_gen_freqGTevents.eps\", dpi=600, figsize=(8, 6))\n",
      "matplotlib.pyplot.show()"
     ],
     "language": "python",
     "metadata": {},
     "outputs": [
      {
       "metadata": {},
       "output_type": "display_data",
       "png": "[encoded data removed]",
       "text": [
        "<matplotlib.figure.Figure at 0x9fa2b50>"
       ]
      }
     ],
     "prompt_number": 84
    },
    {
     "cell_type": "code",
     "collapsed": false,
     "input": [],
     "language": "python",
     "metadata": {},
     "outputs": [],
     "prompt_number": 84
    }
   ],
   "metadata": {}
  }
 ]
}