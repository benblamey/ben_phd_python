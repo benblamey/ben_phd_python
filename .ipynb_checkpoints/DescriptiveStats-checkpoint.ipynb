{
 "metadata": {
  "name": "",
  "signature": "sha256:647b7e0d22c5e09ce7646f7f230d77bae0780ee7f84a10921ddb075a381c3e70"
 },
 "nbformat": 3,
 "nbformat_minor": 0,
 "worksheets": [
  {
   "cells": [
    {
     "cell_type": "code",
     "collapsed": false,
     "input": [
      "#we want inline charts.\n",
      "%matplotlib inline\n",
      "import matrix2latex"
     ],
     "language": "python",
     "metadata": {},
     "outputs": [],
     "prompt_number": 127
    },
    {
     "cell_type": "markdown",
     "metadata": {},
     "source": [
      "Import Datum Types from CSV file \n",
      "====\n",
      "\n",
      "See: ExportGroundTruthDatumEventTypes in Java."
     ]
    },
    {
     "cell_type": "code",
     "collapsed": false,
     "input": [
      "# a table of the different kinds of datums was exported to CSV (for all user lifestories)\n",
      "import csv\n",
      "datum_types = {}\n",
      "data_dir = 'C:/work/data/output/'\n",
      "with open(data_dir + 'DatumTypesForPython.csv', 'rb') as csvfile:\n",
      "     spamreader = csv.reader(csvfile, delimiter=',')\n",
      "     for row in spamreader:\n",
      "        datum_types[row[0]] = row[1]\n",
      "print set(datum_types.values())"
     ],
     "language": "python",
     "metadata": {},
     "outputs": [
      {
       "output_type": "stream",
       "stream": "stdout",
       "text": [
        "set(['benblamey.saesneg.model.datums.DatumStatusMessage', 'benblamey.saesneg.model.datums.DatumPhoto', 'benblamey.saesneg.model.datums.DatumAlbum', 'benblamey.saesneg.model.datums.DatumCheckin', 'benblamey.saesneg.model.datums.DatumEvent'])\n"
       ]
      }
     ],
     "prompt_number": 128
    },
    {
     "cell_type": "code",
     "collapsed": false,
     "input": [
      "import pymongo\n",
      "import pprint #pretty print nested structures\n",
      "from itertools import chain\n",
      "pp = pprint.PrettyPrinter(indent=4)\n",
      "\n",
      "from collections import Counter\n",
      "import sys\n",
      "sys.path.append('C:/work/code/3rd_Ben/matrix2latexPython/matrix2latex')\n",
      "import numpy\n",
      "\n",
      "client = pymongo.MongoClient(\"localhost\", 27017) # previously using 1234 for tunnel.\n",
      "users = client.SocialWorld.users\n",
      "\n",
      "\n",
      "data = []\n",
      "excluded_datums = 0\n",
      "\n",
      "for user in users.find():\n",
      "    fullname = unicode(user[\"FACEBOOK_FIRST_NAME\"]) + unicode(user[\"FACEBOOK_LAST_NAME\"])\n",
      "\n",
      "    if \"GROUND_TRUTH_EVENTS\" in user:\n",
      "        usergts = user[\"GROUND_TRUTH_EVENTS\"]\n",
      "        \n",
      "        data_user = []\n",
      "        \n",
      "        for gtec in usergts[\"events\"]:\n",
      "            \n",
      "            data_user_datums = []\n",
      "            \n",
      "            # lookup the datum IDs in the dictionary\n",
      "            # [3:] #strip off 'fb_' at the start\n",
      "            for datum in gtec[\"datums\"]:\n",
      "                \n",
      "                datum_num_id = datum['id']\n",
      "                if (datum_num_id.startswith('fb_')):\n",
      "                    datum_num_id = datum_num_id[3:]\n",
      "\n",
      "                # We exclude datums that are missing from the latest life story.\n",
      "                if (datum_types.has_key(datum_num_id)):    \n",
      "                    datumtype = datum_types[datum_num_id]\n",
      "                    data_user_datums.append((datum_num_id, datumtype))\n",
      "                else:\n",
      "                    excluded_datums += 1\n",
      "            \n",
      "            if (len(data_user_datums) > 0):\n",
      "                data_user.append(data_user_datums)\n",
      "        \n",
      "        if (len(data_user)>0):\n",
      "            data.append(data_user)\n",
      "                    \n",
      "\n",
      "                \n",
      "\n",
      "table_data = []\n",
      "table_data.append((\"Participants\", users.count()))\n",
      "table_data.append((\"...who created ground truth event clusters\",len(data)))\n",
      "\n",
      "table_data.append((\"total ground truth event clusters\", sum(len(user) for user in data)))\n",
      "\n",
      "\n",
      "table_data.append((\"total datums in those clusters\", len(list(chain.from_iterable(chain.from_iterable(data))))))\n",
      "\n",
      "                  \n",
      "\n",
      "#print \"List of Number of Ground Truth Event Clusters per User\"\n",
      "number_of_gt_events_per_user = list(len(user_events) for user_events in data)\n",
      "#pp.pprint(number_of_gt_events_per_user)\n",
      "    \n",
      "    \n",
      "#print \"List of Number of Datums per Ground Truth Event Cluster\"\n",
      "number_of_datums_per_gt_event_cluster = [len(list(gt_cluster)) for gt_cluster in chain.from_iterable(data)]\n",
      "#pp.pprint(number_of_datums_per_gt_event_cluster)\n",
      "\n",
      "#table_data.append((\"Total ground truth event clusters\", total_gtecs))\n",
      "#table_data.append((\"Total ground truth event cluster datums\", total_gtecdatums))\n",
      "\n",
      "\n",
      "\n",
      "print(\"Excluded Datums: \" + str(excluded_datums))\n",
      "pp.pprint(table_data)\n",
      "                    \n",
      "                    \n",
      "                    \n",
      "                    \n",
      "                    \n",
      "            "
     ],
     "language": "python",
     "metadata": {},
     "outputs": [
      {
       "output_type": "stream",
       "stream": "stdout",
       "text": [
        "Excluded Datums: 38\n",
        "[   ('Participants', 81),\n",
        "    ('...who created ground truth event clusters', 17),\n",
        "    ('total ground truth event clusters', 166),\n",
        "    ('total datums in those clusters', 563)]\n"
       ]
      }
     ],
     "prompt_number": 129
    },
    {
     "cell_type": "markdown",
     "metadata": {},
     "source": [
      "Generate Data for Bar Chart"
     ]
    },
    {
     "cell_type": "markdown",
     "metadata": {},
     "source": [
      "Frequency of Number of Ground Truth Event Clusters per User\n",
      "========="
     ]
    },
    {
     "cell_type": "code",
     "collapsed": false,
     "input": [
      "gteventsizes = number_of_gt_events_per_user\n",
      "\n",
      "from collections import Counter\n",
      "from matplotlib.pyplot import  *\n",
      "from matplotlib.ticker import FixedLocator\n",
      "\n",
      "xvalues = range(1,max(gteventsizes)+1)\n",
      "gt_events_per_user_graph_data = [0] * max(gteventsizes)\n",
      "print xvalues\n",
      "for (x,f) in Counter(gteventsizes).items():\n",
      "    gt_events_per_user_graph_data[x-1] = f\n",
      "print gt_events_per_user_graph_data  \n",
      "\n",
      "#import numpy\n",
      "#xlocations = numpy.array(range(len(gteventsizes)))+0.5\n",
      "#xlocations = xlocations+ width/2 * 2\n",
      "#print xlocations\n",
      "\n",
      "width = 1\n",
      "\n",
      "xlabels = range(0,max(gteventsizes)+2, 2)\n",
      "xlabels_positions = [x + 0.5 for x in xlabels]\n",
      "xminorformatter = FixedLocator([x - 0.5 for x in xlabels])\n",
      "\n",
      "#print xlocations\n",
      "\n",
      "bar(xvalues, gt_events_per_user_graph_data, width=width, linewidth=1)\n",
      "yticks(range(0, max(gt_events_per_user_graph_data)+2))\n",
      "xticks(xlabels_positions, xlabels)\n",
      "xlabel(\"# Ground Truth Events for User\")\n",
      "ylabel(\"Frequency\")\n",
      "xlim(0, max(xlabels)+1)\n",
      "\n",
      "# The function gca() returns the current axes - instance of http://matplotlib.org/api/axes_api.html#matplotlib.axes.Axes\n",
      "gca().get_xaxis().set_minor_locator(xminorformatter)\n",
      "gca().get_xaxis().tick_bottom()\n",
      "gca().get_yaxis().tick_left()\n",
      "\n",
      "savefig(\"freqGTusers.png\", dpi=600, figsize=(8, 6))\n",
      "savefig(\"freqGTusers.pdf\", dpi=600, figsize=(8, 6))\n",
      "show()\n",
      "#title(\"Frequency of Number of Ground Truth Event Clusters per User\")\n"
     ],
     "language": "python",
     "metadata": {},
     "outputs": [
      {
       "output_type": "stream",
       "stream": "stdout",
       "text": [
        "[1, 2, 3, 4, 5, 6, 7, 8, 9, 10, 11, 12, 13, 14, 15, 16, 17, 18, 19, 20, 21, 22, 23, 24, 25, 26, 27, 28, 29, 30, 31, 32, 33, 34, 35]\n",
        "[2, 4, 0, 1, 2, 1, 1, 0, 0, 0, 1, 1, 0, 0, 0, 0, 1, 0, 0, 0, 0, 1, 0, 0, 0, 0, 0, 0, 0, 0, 0, 1, 0, 0, 1]\n"
       ]
      },
      {
       "metadata": {},
       "output_type": "display_data",
       "png": "[encoded data removed]",
       "text": [
        "<matplotlib.figure.Figure at 0x7e9a0d0>"
       ]
      }
     ],
     "prompt_number": 130
    },
    {
     "cell_type": "markdown",
     "metadata": {},
     "source": [
      "Frequency of Number of Datums per Ground Truth Event Cluster\n",
      "============================================================"
     ]
    },
    {
     "cell_type": "code",
     "collapsed": false,
     "input": [
      "gtecsizes = number_of_datums_per_gt_event_cluster\n",
      "\n",
      "\n",
      "from collections import Counter\n",
      "xvalues = range(1,max(gtecsizes)+1)\n",
      "datums_per_event_cluster_graph_data = [0] * max(gtecsizes)\n",
      "print xvalues\n",
      "for (x,f) in Counter(gtecsizes).items():\n",
      "    datums_per_event_cluster_graph_data[x-1] = f\n",
      "print datums_per_event_cluster_graph_data  \n",
      "\n",
      "#import numpy\n",
      "#xlocations = numpy.array(range(len(gteventsizes)))+0.5\n",
      "#xlocations = xlocations+ width/2 * 2\n",
      "#print xlocations\n",
      "\n",
      "width = 1\n",
      "\n",
      "xlabels = range(0,max(gtecsizes)+2, 2)\n",
      "xlabels_positions = [x + 0.5 for x in xlabels]\n",
      "xminorformatter = FixedLocator([x - 0.5 for x in xlabels])\n",
      "\n",
      "#print xlocations\n",
      "\n",
      "bar(xvalues, datums_per_event_cluster_graph_data, width=width, linewidth=1)\n",
      "yticks(range(0, max(datums_per_event_cluster_graph_data)+10, 10))\n",
      "xticks(xlabels_positions, xlabels)\n",
      "xlim(0, max(xlabels)+1)\n",
      "\n",
      "xlabel(\"# Datums in Ground Truth Event Cluster\")\n",
      "ylabel(\"Frequency\")\n",
      "\n",
      "# The function gca() returns the current axes - instance of http://matplotlib.org/api/axes_api.html#matplotlib.axes.Axes\n",
      "gca().get_xaxis().set_minor_locator(xminorformatter)\n",
      "gca().get_xaxis().tick_bottom()\n",
      "gca().get_yaxis().tick_left()\n",
      "\n",
      "savefig(\"freqGTevents.png\", dpi=600, figsize=(8, 6))\n",
      "savefig(\"freqGTevents.pdf\", dpi=600, figsize=(8, 6))\n",
      "show()\n",
      "#title(\"Frequency of Number of Datums per Ground Truth Event Cluster\")"
     ],
     "language": "python",
     "metadata": {},
     "outputs": [
      {
       "output_type": "stream",
       "stream": "stdout",
       "text": [
        "[1, 2, 3, 4, 5, 6, 7, 8, 9, 10, 11, 12, 13, 14, 15, 16, 17, 18, 19, 20, 21, 22, 23, 24]\n",
        "[84, 24, 12, 4, 13, 4, 4, 4, 3, 2, 2, 1, 4, 0, 0, 1, 0, 1, 1, 1, 0, 0, 0, 1]\n"
       ]
      },
      {
       "metadata": {},
       "output_type": "display_data",
       "png": "[encoded data removed]",
       "text": [
        "<matplotlib.figure.Figure at 0x50276f0>"
       ]
      }
     ],
     "prompt_number": 131
    },
    {
     "cell_type": "markdown",
     "metadata": {},
     "source": [
      "Types in GT Event Clusters\n",
      "======="
     ]
    },
    {
     "cell_type": "code",
     "collapsed": false,
     "input": [
      "#Number of types in each gt event cluster\n",
      "types_in_gt_clusters = [set([datum[1] for datum in gt_event_cluster]) for gt_event_cluster in list(chain.from_iterable(data))]\n",
      "#pp.pprint(types_in_gt_clusters)\n",
      "\n",
      "\n",
      "gt_cluster_type_counter = Counter()\n",
      "\n",
      "for types in types_in_gt_clusters:\n",
      "    if (len(types) == 1):\n",
      "        type = next(iter(types))\n",
      "    else:\n",
      "        type = 'mixed'\n",
      "        \n",
      "    gt_cluster_type_counter[type] += 1\n",
      "    \n",
      "\n",
      "pp.pprint(gt_cluster_type_counter)  "
     ],
     "language": "python",
     "metadata": {},
     "outputs": [
      {
       "output_type": "stream",
       "stream": "stdout",
       "text": [
        "Counter({'benblamey.saesneg.model.datums.DatumPhoto': 75, 'benblamey.saesneg.model.datums.DatumEvent': 54, 'benblamey.saesneg.model.datums.DatumCheckin': 15, 'mixed': 13, 'benblamey.saesneg.model.datums.DatumStatusMessage': 9})\n"
       ]
      }
     ],
     "prompt_number": 132
    },
    {
     "cell_type": "code",
     "collapsed": false,
     "input": [
      "pretty_labels = {\n",
      "'benblamey.saesneg.model.datums.DatumPhoto': 'Photo',\n",
      "'benblamey.saesneg.model.datums.DatumStatusMessage': 'Status Message',\n",
      "'benblamey.saesneg.model.datums.DatumCheckin': 'Check-In',\n",
      "'benblamey.saesneg.model.datums.DatumEvent': 'Facebook Event',\n",
      "'mixed': '(Mixed)',\n",
      "}\n",
      "\n",
      "\n",
      "print gt_cluster_type_counter.keys()\n",
      "label_list =  [pretty_labels[label] for label in gt_cluster_type_counter.keys()]\n",
      "x_list = gt_cluster_type_counter.values()\n",
      " \n",
      "axis(\"equal\")\n",
      "pie(\n",
      "x_list,\n",
      "labels=label_list,\n",
      "autopct=None,\n",
      "#startangle=45\n",
      "#autopct=\"%1.1f%%\",\n",
      "#pctdistance=0.8\n",
      ")\n",
      "title2 = \"Ground Truth Event Datum Composition by Kind\"\n",
      "title(title2)\n",
      "\n",
      "\n",
      "savefig(\"GTtypepie.png\", dpi=600, figsize=(8, 6))\n",
      "savefig(\"GTtypepie.pdf\", dpi=600, figsize=(8, 6))\n",
      "\n",
      "show()"
     ],
     "language": "python",
     "metadata": {},
     "outputs": [
      {
       "output_type": "stream",
       "stream": "stdout",
       "text": [
        "['mixed', 'benblamey.saesneg.model.datums.DatumStatusMessage', 'benblamey.saesneg.model.datums.DatumPhoto', 'benblamey.saesneg.model.datums.DatumCheckin', 'benblamey.saesneg.model.datums.DatumEvent']\n"
       ]
      },
      {
       "metadata": {},
       "output_type": "display_data",
       "png": "[encoded data removed]",
       "text": [
        "<matplotlib.figure.Figure at 0x54ea450>"
       ]
      }
     ],
     "prompt_number": 133
    },
    {
     "cell_type": "code",
     "collapsed": false,
     "input": [
      "t = sum(x_list)\n",
      "cluster_type_comp_table_data = zip(label_list, x_list, [(\"{:.2f}\".format(\n",
      "    (float(x)/t) * 100) + \"\\%\") # \\% is for latex.\n",
      "                                  for x in x_list ])\n",
      "\n",
      "cluster_type_comp_table_data = sorted(cluster_type_comp_table_data, key=lambda x: x[1], reverse=True) # %'s are strings! sort on col.2\n",
      "\n",
      "#cluster_type_comp_table_data.reverse()\n",
      "print cluster_type_comp_table_data\n",
      "\n",
      "hr = ['Type(s) in Event Cluster','Frequency','']\n",
      "\n",
      "cluster_type_comp_table_data.append((\"\\midrule Total\", t, \"\"))\n",
      "\n",
      "t = matrix2latex.matrix2latex(cluster_type_comp_table_data,\n",
      "                              headerRow = hr,\n",
      "                              filename='table_gt_comp_by_type', \n",
      "                              caption=title2, alignment='r r r')\n",
      "print t"
     ],
     "language": "python",
     "metadata": {},
     "outputs": [
      {
       "output_type": "stream",
       "stream": "stdout",
       "text": [
        "[('Photo', 75, '45.18\\\\%'), ('Facebook Event', 54, '32.53\\\\%'), ('Check-In', 15, '9.04\\\\%'), ('(Mixed)', 13, '7.83\\\\%'), ('Status Message', 9, '5.42\\\\%')]\n",
        "\\begin{table}[htp]\n",
        "\t\\begin{center}\n",
        "\t\\caption{Ground Truth Event Datum Composition by Kind}\n",
        "\t\\label{tab:table_gt_comp_by_type}\n",
        "\t\t\\begin{tabular}{r r r}\n",
        "\t\t\\toprule\n",
        "\t\t\t{Type(s) in Event Cluster} & {Frequency} & {}\\\\\n",
        "\t\t\t\\midrule\n",
        "\t\t\tPhoto & $75$ & 45.18\\%\\\\\n",
        "\t\t\tFacebook Event & $54$ & 32.53\\%\\\\\n",
        "\t\t\tCheck-In & $15$ & 9.04\\%\\\\\n",
        "\t\t\t(Mixed) & $13$ & 7.83\\%\\\\\n",
        "\t\t\tStatus Message & $9$ & 5.42\\%\\\\\n",
        "\t\t\t\\midrule Total & $166$ & \\\\\n",
        "\t\t\\bottomrule\n",
        "\t\t\\end{tabular}\n",
        "\t\\end{center}\n",
        "\\end{table}\n"
       ]
      }
     ],
     "prompt_number": 134
    },
    {
     "cell_type": "markdown",
     "metadata": {},
     "source": [
      "X-Type Matrix\n",
      "===="
     ]
    },
    {
     "cell_type": "code",
     "collapsed": false,
     "input": [
      "# Postive/Intra Cases\n",
      "\n",
      "from sets import Set\n",
      "cross_types_matrix = Counter()\n",
      "all_types = Set()\n",
      "\n",
      "for user in data:\n",
      "    for gtec in user:\n",
      "        for x in gtec:\n",
      "            x_id = x[0]\n",
      "            x_type = x[1]\n",
      "            all_types.add(x_type)\n",
      "            for y in gtec:\n",
      "                y_id = y[0]\n",
      "                y_type = y[1]\n",
      "                if (x_type > y_type):\n",
      "                    continue\n",
      "                if (x_id == y_id):\n",
      "                    continue\n",
      "                types = [x_type,y_type]\n",
      "                types.sort()\n",
      "                types = tuple(types)\n",
      "                cross_types_matrix[types] += 1\n",
      "                \n",
      "pp.pprint (cross_types_matrix)\n",
      "print (all_types)\n",
      "\n"
     ],
     "language": "python",
     "metadata": {},
     "outputs": [
      {
       "output_type": "stream",
       "stream": "stdout",
       "text": [
        "Counter({('benblamey.saesneg.model.datums.DatumPhoto', 'benblamey.saesneg.model.datums.DatumPhoto'): 3580, ('benblamey.saesneg.model.datums.DatumEvent', 'benblamey.saesneg.model.datums.DatumEvent'): 206, ('benblamey.saesneg.model.datums.DatumStatusMessage', 'benblamey.saesneg.model.datums.DatumStatusMessage'): 118, ('benblamey.saesneg.model.datums.DatumEvent', 'benblamey.saesneg.model.datums.DatumPhoto'): 52, ('benblamey.saesneg.model.datums.DatumPhoto', 'benblamey.saesneg.model.datums.DatumStatusMessage'): 36, ('benblamey.saesneg.model.datums.DatumCheckin', 'benblamey.saesneg.model.datums.DatumCheckin'): 24, ('benblamey.saesneg.model.datums.DatumCheckin', 'benblamey.saesneg.model.datums.DatumPhoto'): 13, ('benblamey.saesneg.model.datums.DatumCheckin', 'benblamey.saesneg.model.datums.DatumEvent'): 1})\n",
        "Set(['benblamey.saesneg.model.datums.DatumStatusMessage', 'benblamey.saesneg.model.datums.DatumPhoto', 'benblamey.saesneg.model.datums.DatumCheckin', 'benblamey.saesneg.model.datums.DatumEvent'])\n"
       ]
      }
     ],
     "prompt_number": 135
    },
    {
     "cell_type": "code",
     "collapsed": false,
     "input": [
      "# Negative/Inter Cases\n",
      "\n",
      "inter_cross_types_matrix = Counter()\n",
      "\n",
      "\n",
      "for user in data:\n",
      "    for cluster_x in user:\n",
      "        for cluster_y in user:\n",
      "            if (cluster_x == cluster_y): # this works.\n",
      "                continue\n",
      "            for x_datum in cluster_x:\n",
      "                x_type = x_datum[1]\n",
      "                for y_datum in cluster_y:\n",
      "                    y_type = y_datum[1]\n",
      "                    if (x_type > y_type):\n",
      "                        continue\n",
      "                    types = [x_type,y_type]\n",
      "                    types.sort()\n",
      "                    types = tuple(types)\n",
      "                    inter_cross_types_matrix[types] += 1\n",
      "\n",
      "          \n"
     ],
     "language": "python",
     "metadata": {},
     "outputs": [],
     "prompt_number": 136
    },
    {
     "cell_type": "code",
     "collapsed": false,
     "input": [
      "all_types_sorted = list(all_types)\n",
      "all_types_sorted.sort()\n",
      "all_types_sorted_reversed = list(all_types_sorted)\n",
      "all_types_sorted_reversed.reverse()\n",
      "\n",
      "pair_table_data = []\n",
      "\n",
      "header_row = list(all_types_sorted)\n",
      "header_row = [pretty_labels[typestring] for typestring in header_row]\n",
      "header_row.insert(0,\"\")\n",
      "\n",
      "xtype_table_data = [header_row]\n",
      "for t1 in all_types_sorted:\n",
      "    table_row = [pretty_labels[t1]]\n",
      "    for t2 in all_types_sorted:\n",
      "        if (t1 <= t2):\n",
      "            cell = cross_types_matrix[(t1, t2)]\n",
      "        else:\n",
      "            cell = \"-\"\n",
      "        table_row.append(cell)\n",
      "    xtype_table_data.append(table_row)\n",
      "\n",
      "matrix2latex.matrix2latex(xtype_table_data, \n",
      "                          filename=\"table_intra_xtype_cluster\", \n",
      "                          caption=\"Intra-Cluster Datum Pairs by Type (Positive Cases).\", \n",
      "                          alignment='r ' * len(header_row))\n",
      "pair_table_data.append(\n",
      "(\"Total intra-cluster (positive) datum pairs\", \n",
      " sum(count for count in cross_types_matrix.values())))\n",
      "\n",
      "inter_xtype_table_data = [header_row]\n",
      "for t1 in all_types_sorted:\n",
      "    table_row = [pretty_labels[t1]]\n",
      "    for t2 in all_types_sorted:\n",
      "        if (t1 <= t2):\n",
      "            cell = inter_cross_types_matrix[(t1, t2)]\n",
      "        else:\n",
      "            cell = \"-\"\n",
      "        table_row.append(cell)\n",
      "    inter_xtype_table_data.append(table_row)\n",
      "\n",
      "matrix2latex.matrix2latex(inter_xtype_table_data, \n",
      "                          filename=\"table_inter_xtype_cluster\", \n",
      "                          caption=\"Inter-Cluster Datum Pairs by Type (Negative Cases).\", \n",
      "                          alignment='r ' * len(header_row))\n",
      "\n",
      "pair_table_data.append(\n",
      "(\"Total inter-cluster (negative) datum pairs\", \n",
      " sum(count for count in inter_cross_types_matrix.values())))\n",
      "\n",
      "\n",
      "\n",
      "\n",
      "inter_xtype_table_data = [header_row]\n",
      "for t1 in all_types_sorted:\n",
      "    table_row = [pretty_labels[t1]]\n",
      "    for t2 in all_types_sorted:\n",
      "        if (t1 <= t2):\n",
      "            cell = inter_cross_types_matrix[(t1, t2)] + cross_types_matrix[(t1, t2)]\n",
      "        else:\n",
      "            cell = \"-\"\n",
      "        table_row.append(cell)\n",
      "    inter_xtype_table_data.append(table_row)\n",
      "\n",
      "matrix2latex.matrix2latex(inter_xtype_table_data, \n",
      "                          filename=\"table_all_xtype_cluster\", \n",
      "                          caption=\"Cluster Datum Pairs by Type (All Cases).\", \n",
      "                          alignment='r ' * len(header_row))\n",
      "\n",
      "pair_table_data.append(\n",
      "(\"Total cluster datum pairs\", \n",
      " sum(count for count in inter_cross_types_matrix.values())\n",
      " + sum(count for count in cross_types_matrix.values()))"
     ],
     "language": "python",
     "metadata": {},
     "outputs": [],
     "prompt_number": 137
    },
    {
     "cell_type": "markdown",
     "metadata": {},
     "source": [
      "Generate Overview Stats Table\n",
      "===="
     ]
    },
    {
     "cell_type": "code",
     "collapsed": false,
     "input": [
      "t = matrix2latex.matrix2latex(table_data, filename=\"table_gt_summary\", caption=\"Summary of participants' ground truth data.\", alignment='r r')\n",
      "print t"
     ],
     "language": "python",
     "metadata": {},
     "outputs": [
      {
       "output_type": "stream",
       "stream": "stdout",
       "text": [
        "\\begin{table}[htp]\n",
        "\t\\begin{center}\n",
        "\t\\caption{Summary of participants' ground truth data.}\n",
        "\t\\label{tab:table_gt_summary}\n",
        "\t\t\\begin{tabular}{r r}\n",
        "\t\t\\toprule\n",
        "\t\t\tParticipants & $81$\\\\\n",
        "\t\t\t...who created ground truth event clusters & $17$\\\\\n",
        "\t\t\ttotal ground truth event clusters & $166$\\\\\n",
        "\t\t\ttotal datums in those clusters & $563$\\\\\n",
        "\t\t\\bottomrule\n",
        "\t\t\\end{tabular}\n",
        "\t\\end{center}\n",
        "\\end{table}\n"
       ]
      }
     ],
     "prompt_number": 138
    },
    {
     "cell_type": "code",
     "collapsed": false,
     "input": [
      "t = matrix2latex.matrix2latex(pair_table_data, \n",
      "                              filename='table_pair_summary', \n",
      "                              caption='Summary of Ground Truth Datum Pairs.', \n",
      "                              alignment='r r')\n",
      "print t"
     ],
     "language": "python",
     "metadata": {},
     "outputs": [
      {
       "output_type": "stream",
       "stream": "stdout",
       "text": [
        "\\begin{table}[htp]\n",
        "\t\\begin{center}\n",
        "\t\\caption{Summary of Ground Truth Datum Pairs.}\n",
        "\t\\label{tab:table_pair_summary}\n",
        "\t\t\\begin{tabular}{r r}\n",
        "\t\t\\toprule\n",
        "\t\t\tTotal intra-cluster (positive) datum pairs & $4030$\\\\\n",
        "\t\t\tTotal inter-cluster (negative) datum pairs & $29055$\\\\\n",
        "\t\t\tTotal cluster datum pairs & $29055$\\\\\n",
        "\t\t\\bottomrule\n",
        "\t\t\\end{tabular}\n",
        "\t\\end{center}\n",
        "\\end{table}\n"
       ]
      }
     ],
     "prompt_number": 139
    }
   ],
   "metadata": {}
  }
 ]
}