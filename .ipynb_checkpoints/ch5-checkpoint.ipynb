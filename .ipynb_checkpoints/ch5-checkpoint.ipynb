{
 "metadata": {
  "name": "",
  "signature": "sha256:53797645e9065c8df3239ebcf185fc948a46268c5bfed0116725b0e5cae862d6"
 },
 "nbformat": 3,
 "nbformat_minor": 0,
 "worksheets": [
  {
   "cells": [
    {
     "cell_type": "code",
     "collapsed": false,
     "input": [
      "#we want inline charts.\n",
      "%matplotlib inline\n",
      "import matrix2latex\n",
      "import matplotlib\n",
      "from sets import Set"
     ],
     "language": "python",
     "metadata": {},
     "outputs": [],
     "prompt_number": 30
    },
    {
     "cell_type": "code",
     "collapsed": false,
     "input": [
      "import csv\n",
      "datum_types = {}\n",
      "data_dir = 'C:/work\\docs\\Dropbox\\PHD_DATA/'\n",
      "#data_dir = 'C:/work/data/output/2014-11-21/17.42.12_expset/PhaseAOnlyExperimentSet/'\n",
      "\n",
      "# userID, datumID, kind, dataKind, dataType, originalText, Note, \n",
      "IndexUserId = 0\n",
      "IndexDatumId = 1\n",
      "IndexAnnoKind = 2\n",
      "IndexDataKind = 3\n",
      "IndexDatumType = 4\n",
      "\n",
      "with open(data_dir + 'PhaseA_Annos.csv', 'rb') as csvfile:\n",
      "    spamreader = csv.reader(csvfile, delimiter=',')\n",
      "    first = True\n",
      "    rows = [x for x in spamreader]\n",
      "\n",
      "# remove the header row\n",
      "rows.pop(0)\n",
      "annoKindFreqs = {}\n",
      "\n",
      "from collections import Counter\n",
      "print Counter([x[IndexAnnoKind] for x in rows])\n",
      "print Counter([x[IndexDataKind] for x in rows])\n",
      "print Counter([x[IndexDatumType] for x in rows])\n",
      "\n",
      "total_gt_datums = 161\n",
      "\n",
      "print len(rows)\n",
      "\n",
      "annoKindLabels = {\n",
      "    \"DateTime\": \"Temporal\",\n",
      "    \"ImageContent\": \"Image Content\",\n",
      "    \"Location\": \"Location\", \n",
      "    \"People\": \"People\",\n",
      "    \"SocialEvent\": \"Social Event\",\n",
      "    \"UserStructure\": \"User Structure\"\n",
      "}\n",
      "\n",
      "pretty_labels = {\n",
      "    'benblamey.saesneg.model.datums.DatumPhoto': 'Photo',\n",
      "    'benblamey.saesneg.model.datums.DatumStatusMessage': 'Status Message',\n",
      "    'benblamey.saesneg.model.datums.DatumCheckin': 'Check-In',\n",
      "    'benblamey.saesneg.model.datums.DatumEvent': 'Facebook Event',\n",
      "}\n",
      "\n",
      "\n",
      "for annoKind in [\"DateTime\", \"ImageContent\", \"Location\", \"People\", \"SocialEvent\", \"UserStructure\"]:\n",
      "    print annoKind\n",
      "    table_data = (            \n",
      "        ('Total Datums', total_gt_datums),\n",
      "        ('Total '+annoKindLabels[annoKind]+' Annotations', len([ x[IndexDatumId] for x in rows if (x[IndexAnnoKind] == annoKind)])),\n",
      "        ('Datums with \\geq1 annotation', len(Set([x[IndexDatumId] for x in rows if (x[IndexAnnoKind] == annoKind) ]) )),\n",
      "        ('Mean annotations / datum', \"{0:.2f}\".format(float(len([ x for x in rows if (x[IndexAnnoKind] == annoKind)]))\n",
      "                                                      /float(total_gt_datums) ) )\n",
      "    )\n",
      "    t1 = matrix2latex.matrix2latex(\n",
      "       table_data, \n",
      "      filename='C:/work/docs/PHD_work/thesis/images/ch5_table_annores_summary_'+annoKind,\n",
      "      caption='Summary of '+annoKindLabels[annoKind]+' Annotations.',\n",
      "      alignment='l r')\n",
      "    print t1\n",
      "\n",
      "    # this one is just number of annotations, not number of datums -- basically demonstrates different;y heterogeneous nature of data\n",
      "    hr = ['Datum Type','Text', 'Metadata', 'Image', 'Total Annotations'] \n",
      "    table_data2 = []\n",
      "    \n",
      "    for datumType in pretty_labels.keys():\n",
      "        table_data2.append((\n",
      "            pretty_labels[datumType], \n",
      "            len([ x[IndexDatumId] for x in rows if (x[IndexAnnoKind]==annoKind)\n",
      "                 & (x[IndexDatumType]==datumType) & (x[IndexDataKind] == \"Text\")]),\n",
      "            len([ x[IndexDatumId] for x in rows if (x[IndexAnnoKind] == annoKind)\n",
      "                 & (x[IndexDatumType]==datumType) & (x[IndexDataKind] == \"Metadata\")]),\n",
      "            len([ x[IndexDatumId] for x in rows if (x[IndexAnnoKind] == annoKind)\n",
      "                 & (x[IndexDatumType]==datumType) & (x[IndexDataKind] == \"Image\")]),\n",
      "            len([ x[IndexDatumId] for x in rows if (x[IndexAnnoKind] == annoKind)\n",
      "                 & (x[IndexDatumType]==datumType) ])\n",
      "        ))\n",
      "\n",
      "    # now append the final row of totals    \n",
      "    table_data2.append((\n",
      "            Total, \n",
      "            len([ x[IndexDatumId] for x in rows if (x[IndexAnnoKind]==annoKind)\n",
      "                     & (x[IndexDataKind] == \"Text\")]),\n",
      "            len([ x[IndexDatumId] for x in rows if (x[IndexAnnoKind] == annoKind)\n",
      "                     & (x[IndexDataKind] == \"Metadata\")]),\n",
      "            len([ x[IndexDatumId] for x in rows if (x[IndexAnnoKind] == annoKind)\n",
      "                     & (x[IndexDataKind] == \"Image\")]),\n",
      "            len([ x[IndexDatumId] for x in rows if (x[IndexAnnoKind] == annoKind)])\n",
      "        ))\n",
      "\n",
      "        \n",
      "    t2 = matrix2latex.matrix2latex(\n",
      "        table_data2, \n",
      "        headerRow = hr,\n",
      "        filename='C:/work/docs/PHD_work/thesis/images/ch5_table_annores_byType_'+annoKind,\n",
      "        caption='Annotations by source data kind and datum type.' ,\n",
      "        alignment='l r r r r')\n",
      "    print t2\n",
      "        "
     ],
     "language": "python",
     "metadata": {},
     "outputs": [
      {
       "output_type": "stream",
       "stream": "stdout",
       "text": [
        "Counter({'People': 419, 'DateTime': 188, 'ImageContent': 112, 'UserStructure': 106, 'Location': 34, 'SocialEvent': 9})\n",
        "Counter({'Metadata': 690, 'Image': 112, 'Text': 66})\n",
        "Counter({'benblamey.saesneg.model.datums.DatumPhoto': 762, 'benblamey.saesneg.model.datums.DatumEvent': 70, 'benblamey.saesneg.model.datums.DatumStatusMessage': 36})\n",
        "868\n",
        "DateTime\n",
        "\\begin{table}[htp]\n",
        "\t\\begin{center}\n",
        "\t\\caption{Summary of Temporal Annotations.}\n",
        "\t\\label{tab:ch5_table_annores_summary_DateTime}\n",
        "\t\t\\begin{tabular}{l r}\n",
        "\t\t\\toprule\n",
        "\t\t\tTotal Datums & $161$\\\\\n",
        "\t\t\tTotal Temporal Annotations & $188$\\\\\n",
        "\t\t\tDatums with $>=1$ annotation & $141$\\\\\n",
        "\t\t\tMean annotations / datum & $1.17$\\\\\n",
        "\t\t\\bottomrule\n",
        "\t\t\\end{tabular}\n",
        "\t\\end{center}\n",
        "\\end{table}\n"
       ]
      },
      {
       "ename": "NameError",
       "evalue": "name 'Total' is not defined",
       "output_type": "pyerr",
       "traceback": [
        "\u001b[1;31m---------------------------------------------------------------------------\u001b[0m\n\u001b[1;31mNameError\u001b[0m                                 Traceback (most recent call last)",
        "\u001b[1;32m<ipython-input-55-cd382ebcbded>\u001b[0m in \u001b[0;36m<module>\u001b[1;34m()\u001b[0m\n\u001b[0;32m     81\u001b[0m     \u001b[1;31m# now append the final row of totals\u001b[0m\u001b[1;33m\u001b[0m\u001b[1;33m\u001b[0m\u001b[0m\n\u001b[0;32m     82\u001b[0m     table_data2.append((\n\u001b[1;32m---> 83\u001b[1;33m             \u001b[0mTotal\u001b[0m\u001b[1;33m,\u001b[0m\u001b[1;33m\u001b[0m\u001b[0m\n\u001b[0m\u001b[0;32m     84\u001b[0m             len([ x[IndexDatumId] for x in rows if (x[IndexAnnoKind]==annoKind)\n\u001b[0;32m     85\u001b[0m                      & (x[IndexDataKind] == \"Text\")]),\n",
        "\u001b[1;31mNameError\u001b[0m: name 'Total' is not defined"
       ]
      }
     ],
     "prompt_number": 55
    },
    {
     "cell_type": "code",
     "collapsed": false,
     "input": [],
     "language": "python",
     "metadata": {},
     "outputs": []
    }
   ],
   "metadata": {}
  }
 ]
}