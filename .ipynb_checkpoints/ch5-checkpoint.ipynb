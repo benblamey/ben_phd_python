{
 "metadata": {
  "name": "",
  "signature": "sha256:c6e79f72e11e455673ff73841e794c11f32a823a031def6b2247b3234b3692ed"
 },
 "nbformat": 3,
 "nbformat_minor": 0,
 "worksheets": [
  {
   "cells": [
    {
     "cell_type": "code",
     "collapsed": false,
     "input": [
      "#we want inline charts.\n",
      "%matplotlib inline\n",
      "import matrix2latex\n",
      "\n",
      "import matplotlib"
     ],
     "language": "python",
     "metadata": {},
     "outputs": [],
     "prompt_number": 1
    },
    {
     "cell_type": "code",
     "collapsed": false,
     "input": [
      "import csv\n",
      "datum_types = {}\n",
      "data_dir = 'C:/work/data/output/'\n",
      "with open(data_dir + 'PhaseA_Annos.csv', 'rb') as csvfile:\n",
      "    spamreader = csv.reader(csvfile, delimiter=',')\n",
      "    first = True\n",
      "    \n",
      "    IndexUserId = 0\n",
      "    IndexDatumId = 1\n",
      "    IndexAnnoKind = 2\n",
      "    IndexDataKind = 3\n",
      "    \n",
      "    for annoKind in [\" Locations\"]:\n",
      "        #print len([ x[IndexDatumId] for x in spamreader if x[IndexAnnoKind] == annoKind])\n",
      "        print len([ x[IndexDatumId] for x in spamreader if (x[IndexAnnoKind] == annoKind) & (x[IndexDataKind] == \" Metadata\")])\n",
      "        print len([ x[IndexDatumId] for x in spamreader if (x[IndexAnnoKind] == annoKind) & (x[IndexDataKind] == \" Text\")])\n",
      "        print len([ x[IndexDatumId] for x in spamreader if (x[IndexAnnoKind] == annoKind) & (x[IndexDataKind] == \" ImageContent\")])\n",
      "    # userID, datumID, kind, dataKind, dataType, originalText, Note, \n",
      "    "
     ],
     "language": "python",
     "metadata": {},
     "outputs": [
      {
       "output_type": "stream",
       "stream": "stdout",
       "text": [
        "134\n",
        "0\n",
        "0\n"
       ]
      }
     ],
     "prompt_number": 29
    },
    {
     "cell_type": "code",
     "collapsed": false,
     "input": [],
     "language": "python",
     "metadata": {},
     "outputs": []
    }
   ],
   "metadata": {}
  }
 ]
}