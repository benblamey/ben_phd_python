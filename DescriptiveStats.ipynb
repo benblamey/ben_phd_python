{
 "metadata": {
  "name": "",
  "signature": "sha256:5e1bc6dcd02784ee6f0289bdf907896cc2a652652655802a5b5213b99baf334f"
 },
 "nbformat": 3,
 "nbformat_minor": 0,
 "worksheets": [
  {
   "cells": [
    {
     "cell_type": "code",
     "collapsed": false,
     "input": [
      "#we want inline charts.\n",
      "%matplotlib inline"
     ],
     "language": "python",
     "metadata": {},
     "outputs": [],
     "prompt_number": 6
    },
    {
     "cell_type": "code",
     "collapsed": false,
     "input": [
      "# a table of the different kinds of datums was exported to CSV (for all user lifestories)\n",
      "import csv\n",
      "datum_types = {}\n",
      "data_dir = 'C:/work/data/output/'\n",
      "with open(data_dir + 'DatumTypesForPython.csv', 'rb') as csvfile:\n",
      "     spamreader = csv.reader(csvfile, delimiter=',')\n",
      "     for row in spamreader:\n",
      "        datum_types[row[0]] = row[1]\n",
      "print set(datum_types.values())"
     ],
     "language": "python",
     "metadata": {},
     "outputs": [
      {
       "output_type": "stream",
       "stream": "stdout",
       "text": [
        "set(['b', 'benblamey.saesneg.model.datums.DatumEvent', 'benblamey.saesneg.model.datums.DatumCheckin', 'benblamey.saesneg.model.datums.DatumStatusMessage', 'benblamey.saesneg.model.datums.DatumPhoto', 'benblamey.saesneg.model.datums.DatumAlbum'])\n"
       ]
      }
     ],
     "prompt_number": 7
    },
    {
     "cell_type": "code",
     "collapsed": false,
     "input": [
      "import pymongo\n",
      "\n",
      "from collections import Counter\n",
      "import sys\n",
      "sys.path.append('C:/work/code/3rd_Ben/matrix2latexPython/matrix2latex')\n",
      "import matrix2latex as foo\n",
      "import numpy\n",
      "\n",
      "client = pymongo.MongoClient(\"localhost\", 27017) # previously using 1234 for tunnel.\n",
      "users = client.SocialWorld.users\n",
      "table_data = [] #data for the latex table.\n",
      "\n",
      "table_data.append((\"Total Participants\", users.count()))\n",
      "\n",
      "havedonegroundtruthevents = 0\n",
      "gteventsizes = [] # list in ints - sizes of everyones ground truth events.\n",
      "gtecsizes = [] # list in ints - sizes of all ground truth event clusters.\n",
      "total_gtecs = 0 # total clusters\n",
      "total_gtecdatums = 0 # total datums\n",
      "gtecs_by_composition = Counter() # keys = types/\"MIXED\", value = counts\n",
      "\n",
      "for user in users.find():\n",
      "    fullname = unicode(user[\"FACEBOOK_FIRST_NAME\"]) + unicode(user[\"FACEBOOK_LAST_NAME\"])\n",
      "    #print fullname\n",
      "    #if fullname == \"Ben Blamey\":\n",
      "    #    continue\n",
      "    if \"GROUND_TRUTH_EVENTS\" in user:\n",
      "        usergts = user[\"GROUND_TRUTH_EVENTS\"]\n",
      "        userhasdatums = False\n",
      "        \n",
      "        for gtec in usergts[\"events\"]:\n",
      "            eventhasdatums = False\n",
      "            \n",
      "            # lookup the datum IDs in the dictionary\n",
      "            # [3:] #strip off 'fb_' at the start\n",
      "            types_in_gtec = set()\n",
      "            datumsincluster = 0\n",
      "            \n",
      "            for datum in gtec[\"datums\"]:\n",
      "                datum_num_id = datum['id'][3:]\n",
      "                if (datum_types.has_key(datum_num_id)):    \n",
      "                    datumtype = datum_types[datum_num_id]\n",
      "                    types_in_gtec.add(datumtype)\n",
      "                    datumsincluster += 1\n",
      "            \n",
      "            if (datumsincluster > 0):\n",
      "                print types_in_gtec\n",
      "\n",
      "                userhasdatums = True\n",
      "                eventhasdatums = True\n",
      "                \n",
      "                total_gtecs += 1\n",
      "                total_gtecdatums += datumsincluster\n",
      "                gtecsizes.append(datumsincluster)\n",
      "\n",
      "        if (eventhasdatums):\n",
      "            gteventsizes.append()\n",
      "                \n",
      "    if (userhasdatums):\n",
      "        havedonegroundtruthevents += 1\n",
      "            \n",
      "\n",
      "#            if (len(types_in_gtec) == 1):\n",
      "#                print types_in_gtec\n",
      "#    gtecs_by_composition['MIXED'] += 1\n",
      "            \n",
      "            \n",
      "            #break\n",
      "            # the large ones have been inspected and are fine.\n",
      "            #if datumsincluster > 20:\n",
      "            #    print fullname\n",
      "\n",
      "\n",
      "table_data.append((\"...who created ground truth event clusters\", havedonegroundtruthevents))\t\t\n",
      "table_data.append((\"Total ground truth event clusters\", total_gtecs))\n",
      "table_data.append((\"Total ground truth event cluster datums\", total_gtecdatums))\n",
      "\n",
      "type(table_data)\n",
      "print(table_data)\n",
      "print(gteventsizes)\n",
      "print(gtecsizes)"
     ],
     "language": "python",
     "metadata": {},
     "outputs": [
      {
       "output_type": "stream",
       "stream": "stdout",
       "text": [
        "set(['benblamey.saesneg.model.datums.DatumPhoto'])\n",
        "set(['benblamey.saesneg.model.datums.DatumPhoto'])\n",
        "set(['benblamey.saesneg.model.datums.DatumStatusMessage'])\n",
        "set(['benblamey.saesneg.model.datums.DatumPhoto', 'benblamey.saesneg.model.datums.DatumEvent'])\n",
        "set(['benblamey.saesneg.model.datums.DatumPhoto'])\n",
        "set(['benblamey.saesneg.model.datums.DatumPhoto'])\n",
        "set(['benblamey.saesneg.model.datums.DatumPhoto'])\n",
        "[('Total Participants', 81), ('...who created ground truth event clusters', 17), ('Total ground truth event clusters', 7), ('Total ground truth event cluster datums', 16)]\n",
        "[2, 2, 2, 1, 11, 22, 4, 6, 36, 35, 5, 7, 12, 2, 1, 17, 5]\n",
        "[1, 1, 3, 2, 1, 1, 7]\n"
       ]
      }
     ],
     "prompt_number": 17
    },
    {
     "cell_type": "code",
     "collapsed": false,
     "input": [
      "            \n",
      "         "
     ],
     "language": "python",
     "metadata": {
      "slideshow": {
       "slide_type": "-"
      }
     },
     "outputs": []
    },
    {
     "cell_type": "code",
     "collapsed": false,
     "input": [
      "t = foo.matrix2latex(table_data, filename=\"table\", caption=\"Summary of participants' ground truth data.\", alignment='|r|c|')\n",
      "\n",
      "print t"
     ],
     "language": "python",
     "metadata": {},
     "outputs": []
    },
    {
     "cell_type": "markdown",
     "metadata": {},
     "source": [
      "Generate Data for Bar Chart"
     ]
    },
    {
     "cell_type": "code",
     "collapsed": false,
     "input": [
      "from collections import Counter\n",
      "from matplotlib.pyplot import  *\n",
      "from matplotlib.ticker import FixedLocator\n",
      "\n",
      "xvalues = range(1,max(gteventsizes)+1)\n",
      "data = [0] * max(gteventsizes)\n",
      "print xvalues\n",
      "for (x,f) in Counter(gteventsizes).items():\n",
      "    data[x-1] = f\n",
      "print data  \n",
      "\n",
      "#import numpy\n",
      "#xlocations = numpy.array(range(len(gteventsizes)))+0.5\n",
      "#xlocations = xlocations+ width/2 * 2\n",
      "#print xlocations\n",
      "\n",
      "width = 1\n",
      "\n",
      "xlabels = range(0,max(gteventsizes)+2, 2)\n",
      "xlabels_positions = [x + 0.5 for x in xlabels]\n",
      "xminorformatter = FixedLocator([x - 0.5 for x in xlabels])\n",
      "\n",
      "#print xlocations\n",
      "\n",
      "bar(xvalues, data, width=width, linewidth=1)\n",
      "yticks(range(0, max(data)+2))\n",
      "xticks(xlabels_positions, xlabels)\n",
      "xlim(0, max(xlabels)+1)\n",
      "\n",
      "# The function gca() returns the current axes - instance of http://matplotlib.org/api/axes_api.html#matplotlib.axes.Axes\n",
      "gca().get_xaxis().set_minor_locator(xminorformatter)\n",
      "gca().get_xaxis().tick_bottom()\n",
      "gca().get_yaxis().tick_left()\n",
      "\n",
      "savefig(\"freqGTusers.png\", dpi=600, figsize=(8, 6))\n",
      "savefig(\"freqGTusers.pdf\", dpi=600, figsize=(8, 6))\n",
      "show()\n",
      "#title(\"Frequency of Number of Ground Truth Event Clusters per User\")\n"
     ],
     "language": "python",
     "metadata": {},
     "outputs": []
    },
    {
     "cell_type": "code",
     "collapsed": false,
     "input": [
      "from collections import Counter\n",
      "xvalues = range(1,max(gtecsizes)+1)\n",
      "data = [0] * max(gtecsizes)\n",
      "print xvalues\n",
      "for (x,f) in Counter(gtecsizes).items():\n",
      "    data[x-1] = f\n",
      "print data  \n",
      "\n",
      "#import numpy\n",
      "#xlocations = numpy.array(range(len(gteventsizes)))+0.5\n",
      "#xlocations = xlocations+ width/2 * 2\n",
      "#print xlocations\n",
      "\n",
      "width = 1\n",
      "\n",
      "xlabels = range(0,max(gtecsizes)+2, 2)\n",
      "xlabels_positions = [x + 0.5 for x in xlabels]\n",
      "xminorformatter = FixedLocator([x - 0.5 for x in xlabels])\n",
      "\n",
      "#print xlocations\n",
      "\n",
      "bar(xvalues, data, width=width, linewidth=1)\n",
      "yticks(range(0, max(data)+2, 10))\n",
      "xticks(xlabels_positions, xlabels)\n",
      "xlim(0, max(xlabels)+1)\n",
      "\n",
      "# The function gca() returns the current axes - instance of http://matplotlib.org/api/axes_api.html#matplotlib.axes.Axes\n",
      "gca().get_xaxis().set_minor_locator(xminorformatter)\n",
      "gca().get_xaxis().tick_bottom()\n",
      "gca().get_yaxis().tick_left()\n",
      "\n",
      "savefig(\"freqGTusers.png\", dpi=600, figsize=(8, 6))\n",
      "savefig(\"freqGTusers.pdf\", dpi=600, figsize=(8, 6))\n",
      "show()\n",
      "#title(\"Frequency of Number of Datums per Ground Truth Event Cluster\")"
     ],
     "language": "python",
     "metadata": {},
     "outputs": []
    },
    {
     "cell_type": "code",
     "collapsed": false,
     "input": [],
     "language": "python",
     "metadata": {},
     "outputs": []
    }
   ],
   "metadata": {}
  }
 ]
}